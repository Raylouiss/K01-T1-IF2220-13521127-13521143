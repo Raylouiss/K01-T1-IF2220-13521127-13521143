{
 "cells": [
  {
   "cell_type": "code",
   "execution_count": 29,
   "metadata": {},
   "outputs": [],
   "source": [
    "import pandas as pd\n",
    "import numpy as np\n",
    "import matplotlib.pyplot as plt\n",
    "from scipy.stats import skew, kurtosis\n",
    "\n",
    "df = pd.read_csv(\"anggur.csv\")"
   ]
  },
  {
   "attachments": {},
   "cell_type": "markdown",
   "metadata": {},
   "source": [
    "No 1\n",
    "Menulis deskripsi statistika (Descriptive Statistics) dari semua kolom pada data yang bersifat\n",
    "numerik, terdiri dari mean, median, modus, standar deviasi, variansi, range, nilai minimum,\n",
    "maksimum, kuartil, IQR, skewness dan kurtosis. Boleh juga ditambahkan deskripsi lain."
   ]
  },
  {
   "cell_type": "code",
   "execution_count": 30,
   "metadata": {},
   "outputs": [
    {
     "name": "stdout",
     "output_type": "stream",
     "text": [
      "          fixed acidity  volatile acidity  citric acid  residual sugar  \\\n",
      "count       1000.000000       1000.000000  1000.000000     1000.000000   \n",
      "mean           7.152530          0.520839     0.270517        2.567104   \n",
      "std            1.201598          0.095848     0.049098        0.987915   \n",
      "min            3.320000          0.139900     0.116700        0.032555   \n",
      "25%            6.377500          0.456100     0.237800        1.896330   \n",
      "median         7.150000          0.524850     0.272200        2.519430   \n",
      "75%            8.000000          0.585375     0.302325        3.220873   \n",
      "max           11.490000          0.805100     0.409600        5.550755   \n",
      "modus          6.540000          0.554600     0.301900        0.032555   \n",
      "variansi       1.443837          0.009187     0.002411        0.975977   \n",
      "range          8.170000          0.665200     0.292900        5.518200   \n",
      "IQR            1.622500          0.129275     0.064525        1.324544   \n",
      "skewness      -0.028879         -0.197699    -0.045576        0.132638   \n",
      "kurtosis      -0.019292          0.161853    -0.104679       -0.042980   \n",
      "\n",
      "            chlorides  free sulfur dioxide  total sulfur dioxide      density  \\\n",
      "count     1000.000000          1000.000000           1000.000000  1000.000000   \n",
      "mean         0.081195            14.907679             40.290150     0.995925   \n",
      "std          0.020111             4.888100              9.965767     0.002020   \n",
      "min          0.015122             0.194679              3.150000     0.988800   \n",
      "25%          0.066574            11.426717             33.785000     0.994600   \n",
      "median       0.082167            14.860346             40.190000     0.996000   \n",
      "75%          0.095312            18.313098             47.022500     0.997200   \n",
      "max          0.140758            27.462525             69.960000     1.002600   \n",
      "modus        0.015122             0.194679             35.200000     0.995900   \n",
      "variansi     0.000404            23.893519             99.316519     0.000004   \n",
      "range        0.125635            27.267847             66.810000     0.013800   \n",
      "IQR          0.028738             6.886381             13.237500     0.002600   \n",
      "skewness    -0.051319             0.007130             -0.024060    -0.076883   \n",
      "kurtosis    -0.246508            -0.364964              0.063950     0.016366   \n",
      "\n",
      "                   pH    sulphates      alcohol      quality  \n",
      "count     1000.000000  1000.000000  1000.000000  1000.000000  \n",
      "mean         3.303610     0.598390    10.592280     7.958000  \n",
      "std          0.104875     0.100819     1.510706     0.902802  \n",
      "min          2.970000     0.290000     6.030000     5.000000  \n",
      "25%          3.230000     0.530000     9.560000     7.000000  \n",
      "median       3.300000     0.595000    10.610000     8.000000  \n",
      "75%          3.370000     0.670000    11.622500     9.000000  \n",
      "max          3.710000     0.960000    15.020000    10.000000  \n",
      "modus        3.340000     0.590000     9.860000     8.000000  \n",
      "variansi     0.010999     0.010164     2.282233     0.815051  \n",
      "range        0.740000     0.670000     8.990000     5.000000  \n",
      "IQR          0.140000     0.140000     2.062500     2.000000  \n",
      "skewness     0.147673     0.149199    -0.018991    -0.089054  \n",
      "kurtosis     0.080910     0.064819    -0.131732     0.108291  \n"
     ]
    }
   ],
   "source": [
    "desc = df.describe(include = [np.number])\n",
    "desc= desc.rename(index={\"50%\": \"median\"})\n",
    "desc.loc['modus'] = df.mode(numeric_only=True).iloc[0]\n",
    "desc.loc[\"variansi\"] = df.var()\n",
    "desc.loc['range'] = desc.loc['max'] - desc.loc['min']\n",
    "desc.loc['IQR'] = desc.loc['75%'] - desc.loc['25%']\n",
    "desc.loc['skewness'] = df.skew()\n",
    "desc.loc['kurtosis'] = df.kurtosis()\n",
    "\n",
    "print(desc)"
   ]
  }
 ],
 "metadata": {
  "kernelspec": {
   "display_name": "Python 3",
   "language": "python",
   "name": "python3"
  },
  "language_info": {
   "codemirror_mode": {
    "name": "ipython",
    "version": 3
   },
   "file_extension": ".py",
   "mimetype": "text/x-python",
   "name": "python",
   "nbconvert_exporter": "python",
   "pygments_lexer": "ipython3",
   "version": "3.11.2"
  },
  "orig_nbformat": 4
 },
 "nbformat": 4,
 "nbformat_minor": 2
}
