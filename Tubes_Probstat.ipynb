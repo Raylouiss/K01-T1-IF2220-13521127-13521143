{
 "cells": [
  {
   "cell_type": "markdown",
   "metadata": {},
   "source": [
    "# Tugas Besar - IF2220 - Probabilitas dan Statistika\n",
    "# Penarikan Kesimpulan dan Pengujian Hipotesis\n",
    "\n",
    "## Enam Langkah Testing\n",
    "1. Tentukan Hipotesis nol $(H_0 : θ = θ_0)$, dimana $θ$ bisa berupa $μ$, $σ$, $p$, atau data lain berdistribusi tertentu (normal, binomial, dsc.).\n",
    "2. Pilih hipotesis alternatif $H_1$ salah dari dari $θ > θ_0$ , $θ < θ_0$, atau $θ ≠ θ_0$.\n",
    "3. Tentukan tingkat signifikan $α$.\n",
    "4. Tentukan uji statistik yang sesuai dan tentukan daerah kritis.\n",
    "5. Hitung nilai uji statistik dari data sample. Hitung $p$-value sesuai dengan uji statistik yang digunakan.\n",
    "6. Ambil keputusan dengan TOLAK $H_0$ jika nilai uji terletak di daerah kritis atau dengan tes signifikan, TOLAK $H_0$ jika $p$-value lebih kecil dibanding tingkat signifikansi α yang diinginkan"
   ]
  },
  {
   "attachments": {},
   "cell_type": "markdown",
   "metadata": {},
   "source": [
    "## Table of Contents\n",
    "1. Soal<br>\n",
    "    1.1 [Menulis Deskripsi Statistika](#1.1-Menulis-Deskripsi-Statistika)<br>\n",
    "    1.2 [Membuat Visualisasi Plot Distribusi](#1.2-Membuat-Visualisasi-Plot-Distribusi)<br>\n",
    "    1.3 [Menentukan Setiap Kolom Numerik Berdistribusi Normal atau Tidak](#1.3-Menentukan-Setiap-Kolom-Numerik-Berdistribusi-Normal-atau-Tidak)<br>\n",
    "    1.4 [Melakukan Test Hipotesis 1 Sampel](#1.4-Melakukan-Test-Hipotesis-1-Sampel)<br>\n",
    "    1.5 [Melakukan Test Hipotesis 2 Sampel](#1.5-Melakukan-Test-Hipotesis-2-Sampel)<br>\n",
    "2. Jawaban<br>\n",
    "    2.1 [Menulis Deskripsi Statistika](#2.1-Menulis-Deskripsi-Statistika)<br>\n",
    "    2.2 [Membuat Visualisasi Plot Distribusi](#2.2-Membuat-Visualisasi-Plot-Distribusi)<br>\n",
    "    2.2.1 [Distribusi Fixed Acidity](#2.2.1-Distribusi-Fixed-Acidity)<br>\n",
    "    2.2.2 [Distribusi Volatile Acidity](#2.2.2-Distribusi-Volatile-Acidity)<br>\n",
    "    2.2.3 [Distribusi Citric Acid](#2.2.3-Distribusi-Citric-Acid)<br>\n",
    "    2.2.4 [Distribusi Residual Sugar](#2.2.4-Distribusi-Residual-Sugar)<br>\n",
    "    2.2.5 [Distribusi Chlorides](#2.2.5-Distribusi-Chlorides)<br>\n",
    "    2.2.6 [Distribusi Free Sulfur Dioxide](#2.2.6-Distribusi-Free-Sulfur-Dioxide)<br>\n",
    "    2.2.7 [Distribusi Density](#2.2.7-Distribusi-Density)<br>\n",
    "    2.2.8 [Distribusi pH](#2.2.8-Distribusi-pH)<br>\n",
    "    2.2.9 [Distribusi Sulphates](#2.2.9-Distribusi-Sulphates)<br>\n",
    "    2.2.10 [Distribusi Alcohol](#2.2.10-Distribusi-Alcohol)<br>\n",
    "    2.2.11 [Distribusi Quality](#2.2.11-Distribusi-Quality)<br>\n",
    "    2.3 [Menentukan Setiap Kolom Numerik Berdistribusi Normal atau Tidak](#2.3-Menentukan-Setiap-Kolom-Numerik-Berdistribusi-Normal-atau-Tidak)<br>\n",
    "    2.4 [Melakukan Test Hipotesis 1 Sampel dengan 6 Langkah Testing](#2.4-Melakukan-Test-Hipotesis-1-Sampel-dengan-6-Langkah-Testing)<br>\n",
    "    2.4.1 [Nilai rata-rata pH di atas 3.29?](#2.4.1-Nilai-rata-rata-pH-di-atas-3.29?)<br>\n",
    "    2.4.2 [Nilai rata-rata Residual Sugar tidak sama dengan 2.50?](#2.4.2-Nilai-rata-rata-Residual-Sugar-tidak-sama-dengan-2.50?)<br>\n",
    "    2.4.3 [Nilai rata-rata 150 baris pertama kolom sulphates bukan 0.65?](#2.4.3-Nilai-rata-rata-150-baris-pertama-kolom-sulphates-bukan-0.65?)<br>\n",
    "    2.4.4 [Nilai rata-rata total sulfur dioxide di bawah 35?](#2.4.4-Nilai-rata-rata-total-sulfur-dioxide-di-bawah-35?)<br>\n",
    "    2.4.5 [Proporsi nilai total sulfur dioxide yang lebih dari 40, adalah tidak sama dengan 50% ?](#2.4.5-Proporsi-nilai-total-sulfur-dioxide-yang-lebih-dari-40,-adalah-tidak-sama-dengan-50%-?)<br>\n",
    "    2.5 [Melakukan Test Hipotesis 2 Sampel dengan 6 Langkah Testing](#2.5-Melakukan-Test-Hipotesis-2-Sampel-dengan-6-Langkah-Testing)<br>\n",
    "    2.5.1 [Data kolom fixed acidity dibagi 2 sama rata: bagian awal dan bagian akhir kolom. Benarkah rata-rata kedua bagian tersebut sama?](#2.5.1-Data-kolom-fixed-acidity-dibagi-2-sama-rata:-bagian-awal-dan-bagian-akhir-kolom.-Benarkah-rata-rata-kedua-bagian-tersebut-sama?)<br>\n",
    "    2.5.2 [Data kolom chlorides dibagi 2 sama rata: bagian awal dan bagian akhir kolom. Benarkah rata-rata bagian awal lebih besar daripada bagian akhir sebesar 0.001?](#2.5.2-Data-kolom-chlorides-dibagi-2-sama-rata:-bagian-awal-dan-bagian-akhir-kolom.-Benarkah-rata-rata-bagian-awal-lebih-besar-daripada-bagian-akhir-sebesar-0.001?)<br>\n",
    "    2.5.3 [Benarkah rata-rata sampel 25 baris pertama kolom Volatile Acidity sama dengan rata-rata 25 baris pertama kolom Sulphates?](#2.5.3-Benarkah-rata-rata-sampel-25-baris-pertama-kolom-Volatile-Acidity-sama-dengan-rata-rata-25-baris-pertama-kolom-Sulphates?)<br>\n",
    "    2.5.4 [Bagian awal kolom residual sugar memiliki variansi yang sama dengan bagian akhirnya?](#2.5.4-Bagian-awal-kolom-residual-sugar-memiliki-variansi-yang-sama-dengan-bagian-akhirnya?)<br>\n",
    "    2.5.5 [Proporsi nilai setengah bagian awal alcohol yang lebih dari 7, adalah lebih besar daripada, proporsi nilai yang sama di setengah bagian akhir alcohol?](#2.5.5-Proporsi-nilai-setengah-bagian-awal-alcohol-yang-lebih-dari-7,-adalah-lebih-besar-daripada,-proporsi-nilai-yang-sama-di-setengah-bagian-akhir-alcohol?)<br>\n",
    "3. Referensi"
   ]
  },
  {
   "cell_type": "markdown",
   "metadata": {},
   "source": [
    "## Soal\n",
    "\n",
    "Diberikan sebuah data anggur.csv yang dapat diakses pada utas berikut: [Dataset Tugas Besar IF2220](https://github.com/Raylouiss/K01-T1-IF2220-13521127-13521143/blob/main/anggur.csv). \n",
    "\n",
    "anggur.csv merupakan data metrik kualitas wine (minuman anggur) yang mengandung 12 kolom sebagai berikut:\n",
    "1. fixed acidity\n",
    "2. volatile acidity\n",
    "3. citric acid\n",
    "4. residual sugar\n",
    "5. chlorides\n",
    "6. free sulfur dioxide\n",
    "7. total sulfur dioxide\n",
    "8. density\n",
    "9. pH\n",
    "10. sulphates\n",
    "11. alcohol\n",
    "12. quality\n",
    "Kolom 1-11 adalah kolom atribut (non-target), sedangkan kolom 12 adalah kolom target\n",
    "\n",
    "Anda diminta untuk melakukan analisis statistika sebagai berikut : \n",
    "\n",
    "## 1.1 Menulis Deskripsi Statistika\n",
    "\n",
    "Menulis deskripsi statistika (Descriptive Statistics) dari semua kolom pada data yang bersifat numerik, terdiri dari mean, median, modus, standar deviasi, variansi, range, nilai minimum, maksimum, kuartil, IQR, skewness dan kurtosis. Boleh juga ditambahkan deskripsi lain.\n",
    "\n",
    "## 1.2 Membuat Visualisasi Plot Distribusi\n",
    "\n",
    "Membuat Visualisasi plot distribusi, dalam bentuk histogram dan boxplot untuk setiap kolom numerik. Berikan uraian penjelasan kondisi setiap kolom berdasarkan kedua plot tersebut.\n",
    "\n",
    "## 1.3 Menentukan Setiap Kolom Numerik Berdistribusi Normal atau Tidak\n",
    "\n",
    "Menentukan setiap kolom numerik berdistribusi normal atau tidak. Gunakan normality test yang dikaitkan dengan histogram plot.\n",
    "\n",
    "## 1.4 Melakukan Test Hipotesis 1 Sampel\n",
    "\n",
    "Melakukan test hipotesis 1 sampel,\n",
    "1. Nilai rata-rata pH di atas 3.29?\n",
    "2. Nilai rata-rata Residual Sugar tidak sama dengan 2.50?\n",
    "3. Nilai rata-rata 150 baris pertama kolom sulphates bukan 0.65?\n",
    "4. Nilai rata-rata total sulfur dioxide di bawah 35?\n",
    "5. Proporsi nilai total sulfur dioxide yang lebih dari 40, adalah tidak sama dengan 50% ?\n",
    "\n",
    "## 1.5 Melakukan Test Hipotesis 2 Sampel\n",
    "1. Data kolom fixed acidity dibagi 2 sama rata: bagian awal dan bagian akhir kolom. Benarkah rata-rata kedua bagian tersebut sama?\n",
    "2. Data kolom chlorides dibagi 2 sama rata: bagian awal dan bagian akhir kolom. Benarkah rata-rata bagian awal lebih besar daripada bagian akhir sebesar 0.001?\n",
    "3. Benarkah rata-rata sampel 25 baris pertama kolom Volatile Acidity sama dengan rata-rata 25 baris pertama kolom Sulphates ?\n",
    "4. Bagian awal kolom residual sugar memiliki variansi yang sama dengan bagian akhirnya?\n",
    "5. Proporsi nilai setengah bagian awal alcohol yang lebih dari 7, adalah lebih besar daripada, proporsi nilai yang sama di setengah bagian akhir alcohol?\n"
   ]
  },
  {
   "cell_type": "markdown",
   "metadata": {},
   "source": [
    "## Jawaban"
   ]
  },
  {
   "cell_type": "code",
   "execution_count": 1,
   "metadata": {},
   "outputs": [],
   "source": [
    "import pandas as pd\n",
    "import numpy as np\n",
    "import matplotlib.pyplot as plt\n",
    "from scipy.stats import skew, kurtosis, t, ttest_ind, ttest_1samp,f, norm\n",
    "import seaborn as sns\n",
    "import math\n",
    "\n",
    "anggur = pd.read_csv(\"anggur.csv\")"
   ]
  },
  {
   "cell_type": "markdown",
   "metadata": {},
   "source": [
    "## 2.1 Menulis Deskripsi Statistika\n",
    "\n",
    "Menulis deskripsi statistika (Descriptive Statistics) dari semua kolom pada data yang bersifat numerik, terdiri dari mean, median, modus, standar deviasi, variansi, range, nilai minimum, maksimum, kuartil, IQR, skewness dan kurtosis. Boleh juga ditambahkan deskripsi lain."
   ]
  },
  {
   "cell_type": "code",
   "execution_count": 2,
   "metadata": {},
   "outputs": [
    {
     "data": {
      "text/html": [
       "<div>\n",
       "<style scoped>\n",
       "    .dataframe tbody tr th:only-of-type {\n",
       "        vertical-align: middle;\n",
       "    }\n",
       "\n",
       "    .dataframe tbody tr th {\n",
       "        vertical-align: top;\n",
       "    }\n",
       "\n",
       "    .dataframe thead th {\n",
       "        text-align: right;\n",
       "    }\n",
       "</style>\n",
       "<table border=\"1\" class=\"dataframe\">\n",
       "  <thead>\n",
       "    <tr style=\"text-align: right;\">\n",
       "      <th></th>\n",
       "      <th>fixed acidity</th>\n",
       "      <th>volatile acidity</th>\n",
       "      <th>citric acid</th>\n",
       "      <th>residual sugar</th>\n",
       "      <th>chlorides</th>\n",
       "      <th>free sulfur dioxide</th>\n",
       "      <th>total sulfur dioxide</th>\n",
       "      <th>density</th>\n",
       "      <th>pH</th>\n",
       "      <th>sulphates</th>\n",
       "      <th>alcohol</th>\n",
       "      <th>quality</th>\n",
       "    </tr>\n",
       "  </thead>\n",
       "  <tbody>\n",
       "    <tr>\n",
       "      <th>count</th>\n",
       "      <td>1000.000000</td>\n",
       "      <td>1000.000000</td>\n",
       "      <td>1000.000000</td>\n",
       "      <td>1000.000000</td>\n",
       "      <td>1000.000000</td>\n",
       "      <td>1000.000000</td>\n",
       "      <td>1000.000000</td>\n",
       "      <td>1000.000000</td>\n",
       "      <td>1000.000000</td>\n",
       "      <td>1000.000000</td>\n",
       "      <td>1000.000000</td>\n",
       "      <td>1000.000000</td>\n",
       "    </tr>\n",
       "    <tr>\n",
       "      <th>mean</th>\n",
       "      <td>7.152530</td>\n",
       "      <td>0.520838</td>\n",
       "      <td>0.270517</td>\n",
       "      <td>2.567104</td>\n",
       "      <td>0.081195</td>\n",
       "      <td>14.907679</td>\n",
       "      <td>40.290150</td>\n",
       "      <td>0.995925</td>\n",
       "      <td>3.303610</td>\n",
       "      <td>0.598390</td>\n",
       "      <td>10.592280</td>\n",
       "      <td>7.958000</td>\n",
       "    </tr>\n",
       "    <tr>\n",
       "      <th>std</th>\n",
       "      <td>1.201598</td>\n",
       "      <td>0.095848</td>\n",
       "      <td>0.049098</td>\n",
       "      <td>0.987915</td>\n",
       "      <td>0.020111</td>\n",
       "      <td>4.888100</td>\n",
       "      <td>9.965767</td>\n",
       "      <td>0.002020</td>\n",
       "      <td>0.104875</td>\n",
       "      <td>0.100819</td>\n",
       "      <td>1.510706</td>\n",
       "      <td>0.902802</td>\n",
       "    </tr>\n",
       "    <tr>\n",
       "      <th>min</th>\n",
       "      <td>3.320000</td>\n",
       "      <td>0.139900</td>\n",
       "      <td>0.116700</td>\n",
       "      <td>0.032555</td>\n",
       "      <td>0.015122</td>\n",
       "      <td>0.194679</td>\n",
       "      <td>3.150000</td>\n",
       "      <td>0.988800</td>\n",
       "      <td>2.970000</td>\n",
       "      <td>0.290000</td>\n",
       "      <td>6.030000</td>\n",
       "      <td>5.000000</td>\n",
       "    </tr>\n",
       "    <tr>\n",
       "      <th>25%</th>\n",
       "      <td>6.377500</td>\n",
       "      <td>0.456100</td>\n",
       "      <td>0.237800</td>\n",
       "      <td>1.896330</td>\n",
       "      <td>0.066574</td>\n",
       "      <td>11.426717</td>\n",
       "      <td>33.785000</td>\n",
       "      <td>0.994600</td>\n",
       "      <td>3.230000</td>\n",
       "      <td>0.530000</td>\n",
       "      <td>9.560000</td>\n",
       "      <td>7.000000</td>\n",
       "    </tr>\n",
       "    <tr>\n",
       "      <th>median</th>\n",
       "      <td>7.150000</td>\n",
       "      <td>0.524850</td>\n",
       "      <td>0.272200</td>\n",
       "      <td>2.519430</td>\n",
       "      <td>0.082167</td>\n",
       "      <td>14.860346</td>\n",
       "      <td>40.190000</td>\n",
       "      <td>0.996000</td>\n",
       "      <td>3.300000</td>\n",
       "      <td>0.595000</td>\n",
       "      <td>10.610000</td>\n",
       "      <td>8.000000</td>\n",
       "    </tr>\n",
       "    <tr>\n",
       "      <th>75%</th>\n",
       "      <td>8.000000</td>\n",
       "      <td>0.585375</td>\n",
       "      <td>0.302325</td>\n",
       "      <td>3.220873</td>\n",
       "      <td>0.095312</td>\n",
       "      <td>18.313098</td>\n",
       "      <td>47.022500</td>\n",
       "      <td>0.997200</td>\n",
       "      <td>3.370000</td>\n",
       "      <td>0.670000</td>\n",
       "      <td>11.622500</td>\n",
       "      <td>9.000000</td>\n",
       "    </tr>\n",
       "    <tr>\n",
       "      <th>max</th>\n",
       "      <td>11.490000</td>\n",
       "      <td>0.805100</td>\n",
       "      <td>0.409600</td>\n",
       "      <td>5.550755</td>\n",
       "      <td>0.140758</td>\n",
       "      <td>27.462525</td>\n",
       "      <td>69.960000</td>\n",
       "      <td>1.002600</td>\n",
       "      <td>3.710000</td>\n",
       "      <td>0.960000</td>\n",
       "      <td>15.020000</td>\n",
       "      <td>10.000000</td>\n",
       "    </tr>\n",
       "    <tr>\n",
       "      <th>modus</th>\n",
       "      <td>6.540000</td>\n",
       "      <td>0.554600</td>\n",
       "      <td>0.301900</td>\n",
       "      <td>0.032555</td>\n",
       "      <td>0.015122</td>\n",
       "      <td>0.194679</td>\n",
       "      <td>35.200000</td>\n",
       "      <td>0.995900</td>\n",
       "      <td>3.340000</td>\n",
       "      <td>0.590000</td>\n",
       "      <td>9.860000</td>\n",
       "      <td>8.000000</td>\n",
       "    </tr>\n",
       "    <tr>\n",
       "      <th>variansi</th>\n",
       "      <td>1.443837</td>\n",
       "      <td>0.009187</td>\n",
       "      <td>0.002411</td>\n",
       "      <td>0.975977</td>\n",
       "      <td>0.000404</td>\n",
       "      <td>23.893519</td>\n",
       "      <td>99.316519</td>\n",
       "      <td>0.000004</td>\n",
       "      <td>0.010999</td>\n",
       "      <td>0.010164</td>\n",
       "      <td>2.282233</td>\n",
       "      <td>0.815051</td>\n",
       "    </tr>\n",
       "    <tr>\n",
       "      <th>range</th>\n",
       "      <td>8.170000</td>\n",
       "      <td>0.665200</td>\n",
       "      <td>0.292900</td>\n",
       "      <td>5.518200</td>\n",
       "      <td>0.125635</td>\n",
       "      <td>27.267847</td>\n",
       "      <td>66.810000</td>\n",
       "      <td>0.013800</td>\n",
       "      <td>0.740000</td>\n",
       "      <td>0.670000</td>\n",
       "      <td>8.990000</td>\n",
       "      <td>5.000000</td>\n",
       "    </tr>\n",
       "    <tr>\n",
       "      <th>IQR</th>\n",
       "      <td>1.622500</td>\n",
       "      <td>0.129275</td>\n",
       "      <td>0.064525</td>\n",
       "      <td>1.324544</td>\n",
       "      <td>0.028738</td>\n",
       "      <td>6.886381</td>\n",
       "      <td>13.237500</td>\n",
       "      <td>0.002600</td>\n",
       "      <td>0.140000</td>\n",
       "      <td>0.140000</td>\n",
       "      <td>2.062500</td>\n",
       "      <td>2.000000</td>\n",
       "    </tr>\n",
       "    <tr>\n",
       "      <th>skewness</th>\n",
       "      <td>-0.028879</td>\n",
       "      <td>-0.197699</td>\n",
       "      <td>-0.045576</td>\n",
       "      <td>0.132638</td>\n",
       "      <td>-0.051319</td>\n",
       "      <td>0.007130</td>\n",
       "      <td>-0.024060</td>\n",
       "      <td>-0.076883</td>\n",
       "      <td>0.147673</td>\n",
       "      <td>0.149199</td>\n",
       "      <td>-0.018991</td>\n",
       "      <td>-0.089054</td>\n",
       "    </tr>\n",
       "    <tr>\n",
       "      <th>kurtosis</th>\n",
       "      <td>-0.019292</td>\n",
       "      <td>0.161853</td>\n",
       "      <td>-0.104679</td>\n",
       "      <td>-0.042980</td>\n",
       "      <td>-0.246508</td>\n",
       "      <td>-0.364964</td>\n",
       "      <td>0.063950</td>\n",
       "      <td>0.016366</td>\n",
       "      <td>0.080910</td>\n",
       "      <td>0.064819</td>\n",
       "      <td>-0.131732</td>\n",
       "      <td>0.108291</td>\n",
       "    </tr>\n",
       "  </tbody>\n",
       "</table>\n",
       "</div>"
      ],
      "text/plain": [
       "          fixed acidity  volatile acidity  citric acid  residual sugar  \\\n",
       "count       1000.000000       1000.000000  1000.000000     1000.000000   \n",
       "mean           7.152530          0.520838     0.270517        2.567104   \n",
       "std            1.201598          0.095848     0.049098        0.987915   \n",
       "min            3.320000          0.139900     0.116700        0.032555   \n",
       "25%            6.377500          0.456100     0.237800        1.896330   \n",
       "median         7.150000          0.524850     0.272200        2.519430   \n",
       "75%            8.000000          0.585375     0.302325        3.220873   \n",
       "max           11.490000          0.805100     0.409600        5.550755   \n",
       "modus          6.540000          0.554600     0.301900        0.032555   \n",
       "variansi       1.443837          0.009187     0.002411        0.975977   \n",
       "range          8.170000          0.665200     0.292900        5.518200   \n",
       "IQR            1.622500          0.129275     0.064525        1.324544   \n",
       "skewness      -0.028879         -0.197699    -0.045576        0.132638   \n",
       "kurtosis      -0.019292          0.161853    -0.104679       -0.042980   \n",
       "\n",
       "            chlorides  free sulfur dioxide  total sulfur dioxide      density  \\\n",
       "count     1000.000000          1000.000000           1000.000000  1000.000000   \n",
       "mean         0.081195            14.907679             40.290150     0.995925   \n",
       "std          0.020111             4.888100              9.965767     0.002020   \n",
       "min          0.015122             0.194679              3.150000     0.988800   \n",
       "25%          0.066574            11.426717             33.785000     0.994600   \n",
       "median       0.082167            14.860346             40.190000     0.996000   \n",
       "75%          0.095312            18.313098             47.022500     0.997200   \n",
       "max          0.140758            27.462525             69.960000     1.002600   \n",
       "modus        0.015122             0.194679             35.200000     0.995900   \n",
       "variansi     0.000404            23.893519             99.316519     0.000004   \n",
       "range        0.125635            27.267847             66.810000     0.013800   \n",
       "IQR          0.028738             6.886381             13.237500     0.002600   \n",
       "skewness    -0.051319             0.007130             -0.024060    -0.076883   \n",
       "kurtosis    -0.246508            -0.364964              0.063950     0.016366   \n",
       "\n",
       "                   pH    sulphates      alcohol      quality  \n",
       "count     1000.000000  1000.000000  1000.000000  1000.000000  \n",
       "mean         3.303610     0.598390    10.592280     7.958000  \n",
       "std          0.104875     0.100819     1.510706     0.902802  \n",
       "min          2.970000     0.290000     6.030000     5.000000  \n",
       "25%          3.230000     0.530000     9.560000     7.000000  \n",
       "median       3.300000     0.595000    10.610000     8.000000  \n",
       "75%          3.370000     0.670000    11.622500     9.000000  \n",
       "max          3.710000     0.960000    15.020000    10.000000  \n",
       "modus        3.340000     0.590000     9.860000     8.000000  \n",
       "variansi     0.010999     0.010164     2.282233     0.815051  \n",
       "range        0.740000     0.670000     8.990000     5.000000  \n",
       "IQR          0.140000     0.140000     2.062500     2.000000  \n",
       "skewness     0.147673     0.149199    -0.018991    -0.089054  \n",
       "kurtosis     0.080910     0.064819    -0.131732     0.108291  "
      ]
     },
     "execution_count": 2,
     "metadata": {},
     "output_type": "execute_result"
    }
   ],
   "source": [
    "desc = anggur.describe(include = [np.number])\n",
    "desc= desc.rename(index={\"50%\": \"median\"})\n",
    "desc.loc['modus'] = anggur.mode(numeric_only=True).iloc[0]\n",
    "desc.loc[\"variansi\"] = anggur.var()\n",
    "desc.loc['range'] = desc.loc['max'] - desc.loc['min']\n",
    "desc.loc['IQR'] = desc.loc['75%'] - desc.loc['25%']\n",
    "desc.loc['skewness'] = anggur.skew()\n",
    "desc.loc['kurtosis'] = anggur.kurtosis()\n",
    "desc"
   ]
  },
  {
   "cell_type": "markdown",
   "metadata": {},
   "source": [
    "## 2.2 Membuat Visualisasi Plot Distribusi\n",
    "\n",
    "Membuat Visualisasi plot distribusi, dalam bentuk histogram dan boxplot untuk setiap kolom numerik. Berikan uraian penjelasan kondisi setiap kolom berdasarkan kedua plot tersebut."
   ]
  },
  {
   "cell_type": "markdown",
   "metadata": {},
   "source": [
    "### 2.2.1 Distribusi Fixed Acidity"
   ]
  },
  {
   "cell_type": "code",
   "execution_count": 3,
   "metadata": {},
   "outputs": [
    {
     "data": {
      "image/png": "[encoded data removed]",
      "text/plain": [
       "<Figure size 720x216 with 2 Axes>"
      ]
     },
     "metadata": {
      "needs_background": "light"
     },
     "output_type": "display_data"
    }
   ],
   "source": [
    "#Fixed Acidity\n",
    "\n",
    "#Ambil data Fixed Acidity\n",
    "fixedAcidity = anggur[\"fixed acidity\"]\n",
    "\n",
    "#Membuat subplot\n",
    "fig, axs = plt.subplots(ncols = 2, figsize = (10, 3))\n",
    "fig.suptitle(\"Distribusi Fixed Acidity\")\n",
    "\n",
    "#Membuat Histogram\n",
    "hist = sns.histplot(fixedAcidity, bins=\"auto\", ax = axs[0])\n",
    "hist.set_title('Histogram of Fixed Acidity')\n",
    "hist.set_xlabel('Value')\n",
    "hist.set_ylabel('Frequency')\n",
    "\n",
    "#Membuat Boxplot\n",
    "boxPlot = sns.boxplot(data = anggur, y = fixedAcidity, ax = axs[1], width=0.2)\n",
    "boxPlot.set_title('Boxplot of Fixed Acidity')\n",
    "boxPlot.set_ylabel('Value')\n",
    "\n",
    "#Mengatur jarak judul dengan subplots\n",
    "plt.subplots_adjust(top = 0.8)\n",
    "\n",
    "#Melakukan plot\n",
    "plt.show()"
   ]
  },
  {
   "attachments": {},
   "cell_type": "markdown",
   "metadata": {},
   "source": [
    "Pada distribusi data 'fixed acidity', dapat dilihat bahwa histogram terlihat normal dengan puncak yang cenderung simetris. Pada boxplot, boxplot memiliki garis yang merupakan median berada di tengah - tengah box (melambangkan IQR), whisker bagian atas dan bawah juga cenderung memiliki panjang yang sama, dan tidak begitu terdapat outlier. Maka dari itu, distribusi cenderung normal."
   ]
  },
  {
   "cell_type": "markdown",
   "metadata": {},
   "source": [
    "### 2.2.2 Distribusi Volatile Acidity"
   ]
  },
  {
   "cell_type": "code",
   "execution_count": 4,
   "metadata": {},
   "outputs": [
    {
     "data": {
      "image/png": "[encoded data removed]",
      "text/plain": [
       "<Figure size 720x216 with 2 Axes>"
      ]
     },
     "metadata": {
      "needs_background": "light"
     },
     "output_type": "display_data"
    }
   ],
   "source": [
    "#Volatile Acidity\n",
    "\n",
    "#Ambil data Volatile Acidity\n",
    "volatileAcidity = anggur[\"volatile acidity\"]\n",
    "\n",
    "#Membuat subplot\n",
    "fig, axs = plt.subplots(ncols = 2, figsize = (10, 3))\n",
    "fig.suptitle(\"Distribusi Volatile Acidity\")\n",
    "\n",
    "#Membuat Histogram\n",
    "hist = sns.histplot(volatileAcidity, bins=\"auto\", ax = axs[0])\n",
    "hist.set_title('Histogram of Volatile Acidity')\n",
    "hist.set_xlabel('Value')\n",
    "hist.set_ylabel('Frequency')\n",
    "\n",
    "#Membuat Boxplot\n",
    "boxPlot = sns.boxplot(data = anggur, y = volatileAcidity, ax = axs[1], width=0.2)\n",
    "boxPlot.set_title('Boxplot of Volatile Acidity')\n",
    "boxPlot.set_ylabel('Value')\n",
    "\n",
    "#Mengatur jarak judul dengan subplots\n",
    "plt.subplots_adjust(top = 0.8)\n",
    "\n",
    "#Melakukan plot\n",
    "plt.show()"
   ]
  },
  {
   "attachments": {},
   "cell_type": "markdown",
   "metadata": {},
   "source": [
    "Pada distribusi data 'volatile acidity', dapat dilihat bahwa histogram terlihat kurang normal dengan puncak yang cenderung kurang simetris dan skewness yang negatif. Pada boxplot, terdapat outlier pada bagian bawah. Maka dari itu,distribusi cenderung tidak normal."
   ]
  },
  {
   "cell_type": "markdown",
   "metadata": {},
   "source": [
    "### 2.2.3 Distribusi Citric Acid"
   ]
  },
  {
   "cell_type": "code",
   "execution_count": 5,
   "metadata": {},
   "outputs": [
    {
     "data": {
      "image/png": "[encoded data removed]",
      "text/plain": [
       "<Figure size 720x216 with 2 Axes>"
      ]
     },
     "metadata": {
      "needs_background": "light"
     },
     "output_type": "display_data"
    }
   ],
   "source": [
    "#Citric Acid\n",
    "\n",
    "#Ambil data Citric Acid\n",
    "citricAcid = anggur[\"citric acid\"]\n",
    "\n",
    "#Membuat subplot\n",
    "fig, axs = plt.subplots(ncols = 2, figsize = (10, 3))\n",
    "fig.suptitle(\"Distribusi Citric Acid\")\n",
    "\n",
    "#Membuat Histogram\n",
    "hist = sns.histplot(citricAcid, bins=\"auto\", ax = axs[0])\n",
    "hist.set_title('Histogram of Citric Acid')\n",
    "hist.set_xlabel('Value')\n",
    "hist.set_ylabel('Frequency')\n",
    "\n",
    "#Membuat Boxplot\n",
    "boxPlot = sns.boxplot(data = anggur, y = citricAcid, ax = axs[1], width=0.2)\n",
    "boxPlot.set_title('Boxplot of Citric Acid')\n",
    "boxPlot.set_ylabel('Value')\n",
    "\n",
    "#Mengatur jarak judul dengan subplots\n",
    "plt.subplots_adjust(top = 0.8)\n",
    "\n",
    "#Melakukan plot\n",
    "plt.show()"
   ]
  },
  {
   "attachments": {},
   "cell_type": "markdown",
   "metadata": {},
   "source": [
    "Pada distribusi data 'citrid acid', dapat dilihat bahwa histogram terlihat normal dengan puncak yang cenderung simetris. Pada boxplot, boxplot memiliki garis yang merupakan median berada di tengah - tengah box (melambangkan IQR), whisker bagian atas dan bawah juga cenderung memiliki panjang yang sama, dan tidak begitu terdapat outlier. Maka dari itu, distribusi cenderung normal."
   ]
  },
  {
   "cell_type": "markdown",
   "metadata": {},
   "source": [
    "### 2.2.4 Distribusi Residual Sugar"
   ]
  },
  {
   "cell_type": "code",
   "execution_count": 6,
   "metadata": {},
   "outputs": [
    {
     "data": {
      "image/png": "[encoded data removed]",
      "text/plain": [
       "<Figure size 720x216 with 2 Axes>"
      ]
     },
     "metadata": {
      "needs_background": "light"
     },
     "output_type": "display_data"
    }
   ],
   "source": [
    "#Residual Sugar\n",
    "\n",
    "#Ambil data Residual Sugar\n",
    "residualSugar = anggur[\"residual sugar\"]\n",
    "\n",
    "#Membuat subplot\n",
    "fig, axs = plt.subplots(ncols = 2, figsize = (10, 3))\n",
    "fig.suptitle(\"Distribusi Residual Sugar\")\n",
    "\n",
    "#Membuat Histogram\n",
    "hist = sns.histplot(residualSugar, bins=\"auto\", ax = axs[0])\n",
    "hist.set_title('Histogram of Residual Sugar')\n",
    "hist.set_xlabel('Value')\n",
    "hist.set_ylabel('Frequency')\n",
    "\n",
    "#Membuat Boxplot\n",
    "boxPlot = sns.boxplot(data = anggur, y = residualSugar, ax = axs[1], width=0.2)\n",
    "boxPlot.set_title('Boxplot of Residual Sugar')\n",
    "boxPlot.set_ylabel('Value')\n",
    "\n",
    "#Mengatur jarak judul dengan subplots\n",
    "plt.subplots_adjust(top = 0.8)\n",
    "\n",
    "#Melakukan plot\n",
    "plt.show()"
   ]
  },
  {
   "attachments": {},
   "cell_type": "markdown",
   "metadata": {},
   "source": [
    "Pada distribusi data 'residual sugar', dapat dilihat bahwa histogram terlihat normal dengan puncak yang cenderung simetris. Pada boxplot, boxplot memiliki garis yang merupakan median berada di tengah - tengah box (melambangkan IQR), whisker bagian atas dan bawah juga cenderung memiliki panjang yang sama, dan tidak begitu terdapat outlier. Maka dari itu, distribusi cenderung normal."
   ]
  },
  {
   "cell_type": "markdown",
   "metadata": {},
   "source": [
    "### 2.2.5 Distribusi Chlorides"
   ]
  },
  {
   "cell_type": "code",
   "execution_count": 7,
   "metadata": {},
   "outputs": [
    {
     "data": {
      "image/png": "[encoded data removed]",
      "text/plain": [
       "<Figure size 720x216 with 2 Axes>"
      ]
     },
     "metadata": {
      "needs_background": "light"
     },
     "output_type": "display_data"
    }
   ],
   "source": [
    "#Chlorides\n",
    "\n",
    "#Ambil data Chlorides\n",
    "chlorides = anggur[\"chlorides\"]\n",
    "\n",
    "#Membuat subplot\n",
    "fig, axs = plt.subplots(ncols = 2, figsize = (10, 3))\n",
    "fig.suptitle(\"Distribusi Chlorides\")\n",
    "\n",
    "#Membuat Histogram\n",
    "hist = sns.histplot(chlorides, bins=\"auto\", ax = axs[0])\n",
    "hist.set_title('Histogram of Chlorides')\n",
    "hist.set_xlabel('Value')\n",
    "hist.set_ylabel('Frequency')\n",
    "\n",
    "#Membuat Boxplot\n",
    "boxPlot = sns.boxplot(data = anggur, y = chlorides, ax = axs[1], width=0.2)\n",
    "boxPlot.set_title('Boxplot of Chlorides')\n",
    "boxPlot.set_ylabel('Value')\n",
    "\n",
    "#Mengatur jarak judul dengan subplots\n",
    "plt.subplots_adjust(top = 0.8)\n",
    "\n",
    "#Melakukan plot\n",
    "plt.show()"
   ]
  },
  {
   "attachments": {},
   "cell_type": "markdown",
   "metadata": {},
   "source": [
    "Pada distribusi data 'chlorides', dapat dilihat bahwa histogram terlihat normal dengan puncak yang cenderung simetris. Pada boxplot, boxplot memiliki garis yang merupakan median berada di tengah - tengah box (melambangkan IQR), whisker bagian atas dan bawah juga cenderung memiliki panjang yang sama, dan tidak begitu terdapat outlier. Maka dari itu, distribusi cenderung normal."
   ]
  },
  {
   "cell_type": "markdown",
   "metadata": {},
   "source": [
    "### 2.2.6 Distribusi Free Sulfur Dioxide"
   ]
  },
  {
   "cell_type": "code",
   "execution_count": 8,
   "metadata": {},
   "outputs": [
    {
     "data": {
      "image/png": "[encoded data removed]",
      "text/plain": [
       "<Figure size 720x216 with 2 Axes>"
      ]
     },
     "metadata": {
      "needs_background": "light"
     },
     "output_type": "display_data"
    }
   ],
   "source": [
    "#Free Sulfur Dioxide\n",
    "\n",
    "#Ambil data Free Sulfur Dioxide\n",
    "freeSulfurDioxide = anggur[\"free sulfur dioxide\"]\n",
    "\n",
    "#Membuat subplot\n",
    "fig, axs = plt.subplots(ncols = 2, figsize = (10, 3))\n",
    "fig.suptitle(\"Distribusi Free Sulfur Dioxide\")\n",
    "\n",
    "#Membuat Histogram\n",
    "hist = sns.histplot(freeSulfurDioxide, bins=\"auto\", ax = axs[0])\n",
    "hist.set_title('Histogram of Free Sulfur Dioxide')\n",
    "hist.set_xlabel('Value')\n",
    "hist.set_ylabel('Frequency')\n",
    "\n",
    "#Membuat Boxplot\n",
    "boxPlot = sns.boxplot(data = anggur, y = freeSulfurDioxide, ax = axs[1], width=0.2)\n",
    "boxPlot.set_title('Boxplot of Free Sulfur Dioxide')\n",
    "boxPlot.set_ylabel('Value')\n",
    "\n",
    "#Mengatur jarak judul dengan subplots\n",
    "plt.subplots_adjust(top = 0.8)\n",
    "\n",
    "#Melakukan plot\n",
    "plt.show()"
   ]
  },
  {
   "attachments": {},
   "cell_type": "markdown",
   "metadata": {},
   "source": [
    "Pada distribusi data 'fixed acidity', dapat dilihat bahwa histogram terlihat kurang normal dengan puncak yang cenderung kurang simetris dan skewness yang negatif. Pada boxplot, terdapat outlier pada bagian bawah dan jauh. Maka dari itu, distribusi cenderung tidak normal."
   ]
  },
  {
   "cell_type": "markdown",
   "metadata": {},
   "source": [
    "### 2.2.7 Distribusi Density"
   ]
  },
  {
   "cell_type": "code",
   "execution_count": 9,
   "metadata": {},
   "outputs": [
    {
     "data": {
      "image/png": "[encoded data removed]",
      "text/plain": [
       "<Figure size 720x216 with 2 Axes>"
      ]
     },
     "metadata": {
      "needs_background": "light"
     },
     "output_type": "display_data"
    }
   ],
   "source": [
    "#Density\n",
    "\n",
    "#Ambil data Density\n",
    "density = anggur[\"density\"]\n",
    "\n",
    "#Membuat subplot\n",
    "fig, axs = plt.subplots(ncols = 2, figsize = (10, 3))\n",
    "fig.suptitle(\"Distribusi Density\")\n",
    "\n",
    "#Membuat Histogram\n",
    "hist = sns.histplot(density, bins=\"auto\", ax = axs[0])\n",
    "hist.set_title('Histogram of Density')\n",
    "hist.set_xlabel('Value')\n",
    "hist.set_ylabel('Frequency')\n",
    "\n",
    "#Membuat Boxplot\n",
    "boxPlot = sns.boxplot(data = anggur, y = density, ax = axs[1], width=0.2)\n",
    "boxPlot.set_title('Boxplot of Density')\n",
    "boxPlot.set_ylabel('Value')\n",
    "\n",
    "#Mengatur jarak judul dengan subplots\n",
    "plt.subplots_adjust(top = 0.8, wspace = 0.3)\n",
    "\n",
    "#Melakukan plot\n",
    "plt.show()"
   ]
  },
  {
   "attachments": {},
   "cell_type": "markdown",
   "metadata": {},
   "source": [
    "Pada distribusi data 'density', dapat dilihat bahwa histogram terlihat normal dengan puncak yang cenderung simetris. Pada boxplot, boxplot memiliki garis yang merupakan median berada di tengah - tengah box (melambangkan IQR), whisker bagian atas dan bawah juga cenderung memiliki panjang yang sama, dan tidak begitu terdapat outlier. Maka dari itu, distribusi cenderung normal."
   ]
  },
  {
   "cell_type": "markdown",
   "metadata": {},
   "source": [
    "### 2.2.8 Distribusi pH"
   ]
  },
  {
   "cell_type": "code",
   "execution_count": 10,
   "metadata": {},
   "outputs": [
    {
     "data": {
      "image/png": "[encoded data removed]",
      "text/plain": [
       "<Figure size 720x216 with 2 Axes>"
      ]
     },
     "metadata": {
      "needs_background": "light"
     },
     "output_type": "display_data"
    }
   ],
   "source": [
    "#pH\n",
    "\n",
    "#Ambil pH\n",
    "pH = anggur[\"pH\"]\n",
    "\n",
    "#Membuat subplot\n",
    "fig, axs = plt.subplots(ncols = 2, figsize = (10, 3))\n",
    "fig.suptitle(\"Distribusi pH\")\n",
    "\n",
    "#Membuat Histogram\n",
    "hist = sns.histplot(pH, bins=\"auto\", ax = axs[0])\n",
    "hist.set_title('Histogram of pH')\n",
    "hist.set_xlabel('Value')\n",
    "hist.set_ylabel('Frequency')\n",
    "\n",
    "#Membuat Boxplot\n",
    "boxPlot = sns.boxplot(data = anggur, y = pH, ax = axs[1], width=0.2)\n",
    "boxPlot.set_title('Boxplot of pH')\n",
    "boxPlot.set_ylabel('Value')\n",
    "\n",
    "#Mengatur jarak judul dengan subplots\n",
    "plt.subplots_adjust(top = 0.8)\n",
    "\n",
    "#Melakukan plot\n",
    "plt.show()"
   ]
  },
  {
   "attachments": {},
   "cell_type": "markdown",
   "metadata": {},
   "source": [
    "Pada distribusi data 'pH', dapat dilihat bahwa histogram terlihat normal dengan puncak yang cenderung simetris. Pada boxplot, boxplot memiliki garis yang merupakan median berada di tengah - tengah box (melambangkan IQR), whisker bagian atas dan bawah juga cenderung memiliki panjang yang sama, dan tidak begitu terdapat outlier. Maka dari itu, distribusi cenderung normal."
   ]
  },
  {
   "cell_type": "markdown",
   "metadata": {},
   "source": [
    "### 2.2.9 Distribusi Sulphates"
   ]
  },
  {
   "cell_type": "code",
   "execution_count": 11,
   "metadata": {},
   "outputs": [
    {
     "data": {
      "image/png": "[encoded data removed]",
      "text/plain": [
       "<Figure size 720x216 with 2 Axes>"
      ]
     },
     "metadata": {
      "needs_background": "light"
     },
     "output_type": "display_data"
    }
   ],
   "source": [
    "#Sulphates\n",
    "\n",
    "#Ambil Sulphates\n",
    "sulphates = anggur[\"sulphates\"]\n",
    "\n",
    "#Membuat subplot\n",
    "fig, axs = plt.subplots(ncols = 2, figsize = (10, 3))\n",
    "fig.suptitle(\"Distribusi Sulphates\")\n",
    "\n",
    "#Membuat Histogram\n",
    "hist = sns.histplot(sulphates, bins=\"auto\", ax = axs[0])\n",
    "hist.set_title('Histogram of Sulphates')\n",
    "hist.set_xlabel('Value')\n",
    "hist.set_ylabel('Frequency')\n",
    "\n",
    "#Membuat Boxplot\n",
    "boxPlot = sns.boxplot(data = anggur, y = sulphates, ax = axs[1], width=0.2)\n",
    "boxPlot.set_title('Boxplot of Sulphates')\n",
    "boxPlot.set_ylabel('Value')\n",
    "\n",
    "#Mengatur jarak judul dengan subplots\n",
    "plt.subplots_adjust(top = 0.8)\n",
    "\n",
    "#Melakukan plot\n",
    "plt.show()"
   ]
  },
  {
   "attachments": {},
   "cell_type": "markdown",
   "metadata": {},
   "source": [
    "Pada distribusi data 'sulphates', dapat dilihat bahwa histogram terlihat normal dengan puncak yang cenderung simetris. Pada boxplot, boxplot memiliki garis yang merupakan median berada di tengah - tengah box (melambangkan IQR), whisker bagian atas dan bawah juga cenderung memiliki panjang yang sama, dan tidak begitu terdapat outlier. Maka dari itu, distribusi cenderung normal."
   ]
  },
  {
   "cell_type": "markdown",
   "metadata": {},
   "source": [
    "### 2.2.10 Distribusi Alcohol"
   ]
  },
  {
   "cell_type": "code",
   "execution_count": 12,
   "metadata": {},
   "outputs": [
    {
     "data": {
      "image/png": "[encoded data removed]",
      "text/plain": [
       "<Figure size 720x216 with 2 Axes>"
      ]
     },
     "metadata": {
      "needs_background": "light"
     },
     "output_type": "display_data"
    }
   ],
   "source": [
    "#Alcohol\n",
    "\n",
    "#Ambil Alcohol\n",
    "alcohol = anggur[\"alcohol\"]\n",
    "\n",
    "#Membuat subplot\n",
    "fig, axs = plt.subplots(ncols = 2, figsize = (10, 3))\n",
    "fig.suptitle(\"Distribusi Alcohol\")\n",
    "\n",
    "#Membuat Histogram\n",
    "hist = sns.histplot(alcohol, bins=\"auto\", ax = axs[0])\n",
    "hist.set_title('Histogram of Alcohol')\n",
    "hist.set_xlabel('Value')\n",
    "hist.set_ylabel('Frequency')\n",
    "\n",
    "#Membuat Boxplot\n",
    "boxPlot = sns.boxplot(data = anggur, y = alcohol, ax = axs[1], width=0.2)\n",
    "boxPlot.set_title('Boxplot of Alcohol')\n",
    "boxPlot.set_ylabel('Value')\n",
    "\n",
    "#Mengatur jarak judul dengan subplots\n",
    "plt.subplots_adjust(top = 0.8)\n",
    "\n",
    "#Melakukan plot\n",
    "plt.show()"
   ]
  },
  {
   "attachments": {},
   "cell_type": "markdown",
   "metadata": {},
   "source": [
    "Pada distribusi data 'alcohol', dapat dilihat bahwa histogram terlihat normal dengan puncak yang cenderung simetris. Pada boxplot, boxplot memiliki garis yang merupakan median berada di tengah - tengah box (melambangkan IQR), whisker bagian atas dan bawah juga cenderung memiliki panjang yang sama, dan tidak begitu terdapat outlier. Maka dari itu, distribusi cenderung normal."
   ]
  },
  {
   "cell_type": "markdown",
   "metadata": {},
   "source": [
    "### 2.2.11 Distribusi Quality"
   ]
  },
  {
   "cell_type": "code",
   "execution_count": 13,
   "metadata": {},
   "outputs": [
    {
     "data": {
      "image/png": "[encoded data removed]",
      "text/plain": [
       "<Figure size 720x216 with 2 Axes>"
      ]
     },
     "metadata": {
      "needs_background": "light"
     },
     "output_type": "display_data"
    }
   ],
   "source": [
    "#Quality\n",
    "\n",
    "#Ambil Quality\n",
    "quality = anggur[\"quality\"]\n",
    "\n",
    "#Membuat subplot\n",
    "fig, axs = plt.subplots(ncols = 2, figsize = (10, 3))\n",
    "fig.suptitle(\"Distribusi Quality\")\n",
    "\n",
    "#Membuat Histogram\n",
    "hist = sns.histplot(quality, bins=\"auto\", ax = axs[0])\n",
    "hist.set_title('Histogram of Quality')\n",
    "hist.set_xlabel('Value')\n",
    "hist.set_ylabel('Frequency')\n",
    "\n",
    "#Membuat Boxplot\n",
    "boxPlot = sns.boxplot(data = anggur, y = quality, ax = axs[1], width=0.2)\n",
    "boxPlot.set_title('Boxplot of Quality')\n",
    "boxPlot.set_ylabel('Value')\n",
    "\n",
    "#Mengatur jarak judul dengan subplots\n",
    "plt.subplots_adjust(top = 0.8)\n",
    "\n",
    "#Melakukan plot\n",
    "plt.show()"
   ]
  },
  {
   "attachments": {},
   "cell_type": "markdown",
   "metadata": {},
   "source": [
    "Pada distribusi data 'quality', dapat dilihat bahwa histogram terlihat normal dengan puncak yang cenderung simetris. Pada boxplot, boxplot memiliki garis yang merupakan median berada di tengah - tengah box (melambangkan IQR) dan tidak begitu terdapat outlier. Maka dari itu, distribusi cenderung normal."
   ]
  },
  {
   "cell_type": "markdown",
   "metadata": {},
   "source": [
    "## 2.3 Menentukan Setiap Kolom Numerik Berdistribusi Normal atau Tidak\n",
    "Menentukan setiap kolom numerik berdistribusi normal atau tidak. Gunakan normality test yang dikaitkan dengan histogram plot."
   ]
  },
  {
   "cell_type": "code",
   "execution_count": 14,
   "metadata": {},
   "outputs": [
    {
     "name": "stdout",
     "output_type": "stream",
     "text": [
      "fixed acidity is normally distributed with p_value = 0.9308584274486692\n"
     ]
    },
    {
     "data": {
      "image/png": "[encoded data removed]",
      "text/plain": [
       "<Figure size 432x288 with 1 Axes>"
      ]
     },
     "metadata": {
      "needs_background": "light"
     },
     "output_type": "display_data"
    },
    {
     "name": "stdout",
     "output_type": "stream",
     "text": [
      "volatile acidity is not normally distributed with p_value = 0.022581461594113835\n"
     ]
    },
    {
     "data": {
      "image/png": "[encoded data removed]",
      "text/plain": [
       "<Figure size 432x288 with 1 Axes>"
      ]
     },
     "metadata": {
      "needs_background": "light"
     },
     "output_type": "display_data"
    },
    {
     "name": "stdout",
     "output_type": "stream",
     "text": [
      "citric acid is normally distributed with p_value = 0.6816899375976969\n"
     ]
    },
    {
     "data": {
      "image/png": "[encoded data removed]",
      "text/plain": [
       "<Figure size 432x288 with 1 Axes>"
      ]
     },
     "metadata": {
      "needs_background": "light"
     },
     "output_type": "display_data"
    },
    {
     "name": "stdout",
     "output_type": "stream",
     "text": [
      "residual sugar is normally distributed with p_value = 0.22466703321310558\n"
     ]
    },
    {
     "data": {
      "image/png": "[encoded data removed]",
      "text/plain": [
       "<Figure size 432x288 with 1 Axes>"
      ]
     },
     "metadata": {
      "needs_background": "light"
     },
     "output_type": "display_data"
    },
    {
     "name": "stdout",
     "output_type": "stream",
     "text": [
      "chlorides is normally distributed with p_value = 0.17048274704296862\n"
     ]
    },
    {
     "data": {
      "image/png": "[encoded data removed]",
      "text/plain": [
       "<Figure size 432x288 with 1 Axes>"
      ]
     },
     "metadata": {
      "needs_background": "light"
     },
     "output_type": "display_data"
    },
    {
     "name": "stdout",
     "output_type": "stream",
     "text": [
      "free sulfur dioxide is not normally distributed with p_value = 0.01743043451827735\n"
     ]
    },
    {
     "data": {
      "image/png": "[encoded data removed]",
      "text/plain": [
       "<Figure size 432x288 with 1 Axes>"
      ]
     },
     "metadata": {
      "needs_background": "light"
     },
     "output_type": "display_data"
    },
    {
     "name": "stdout",
     "output_type": "stream",
     "text": [
      "total sulfur dioxide is normally distributed with p_value = 0.8488846101395726\n"
     ]
    },
    {
     "data": {
      "image/png": "[encoded data removed]",
      "text/plain": [
       "<Figure size 432x288 with 1 Axes>"
      ]
     },
     "metadata": {
      "needs_background": "light"
     },
     "output_type": "display_data"
    },
    {
     "name": "stdout",
     "output_type": "stream",
     "text": [
      "density is normally distributed with p_value = 0.5985227325531981\n"
     ]
    },
    {
     "data": {
      "image/png": "[encoded data removed]",
      "text/plain": [
       "<Figure size 432x288 with 1 Axes>"
      ]
     },
     "metadata": {
      "needs_background": "light"
     },
     "output_type": "display_data"
    },
    {
     "name": "stdout",
     "output_type": "stream",
     "text": [
      "pH is normally distributed with p_value = 0.13678740824860436\n"
     ]
    },
    {
     "data": {
      "image/png": "[encoded data removed]",
      "text/plain": [
       "<Figure size 432x288 with 1 Axes>"
      ]
     },
     "metadata": {
      "needs_background": "light"
     },
     "output_type": "display_data"
    },
    {
     "name": "stdout",
     "output_type": "stream",
     "text": [
      "sulphates is normally distributed with p_value = 0.13884318628391681\n"
     ]
    },
    {
     "data": {
      "image/png": "[encoded data removed]",
      "text/plain": [
       "<Figure size 432x288 with 1 Axes>"
      ]
     },
     "metadata": {
      "needs_background": "light"
     },
     "output_type": "display_data"
    },
    {
     "name": "stdout",
     "output_type": "stream",
     "text": [
      "alcohol is normally distributed with p_value = 0.6790884901361043\n"
     ]
    },
    {
     "data": {
      "image/png": "[encoded data removed]",
      "text/plain": [
       "<Figure size 432x288 with 1 Axes>"
      ]
     },
     "metadata": {
      "needs_background": "light"
     },
     "output_type": "display_data"
    },
    {
     "name": "stdout",
     "output_type": "stream",
     "text": [
      "quality is normally distributed with p_value = 0.3888139394184818\n"
     ]
    },
    {
     "data": {
      "image/png": "[encoded data removed]",
      "text/plain": [
       "<Figure size 432x288 with 1 Axes>"
      ]
     },
     "metadata": {
      "needs_background": "light"
     },
     "output_type": "display_data"
    }
   ],
   "source": [
    "from scipy.stats import normaltest\n",
    "\n",
    "for col in anggur.select_dtypes(include=[np.number]):\n",
    "    stat, p = normaltest(anggur[col])\n",
    "    alpha = 0.05\n",
    "    \n",
    "    if p > alpha:\n",
    "        print(f'{col} is normally distributed with p_value = {p}')\n",
    "    else:\n",
    "        print(f'{col} is not normally distributed with p_value = {p}')\n",
    "    \n",
    "    sns.histplot(anggur[col], bins=\"auto\", kde=True)\n",
    "    plt.title(f'Histogram of {col}')\n",
    "    plt.xlabel('Value')\n",
    "    plt.ylabel('Frequency')\n",
    "    plt.show()"
   ]
  },
  {
   "cell_type": "markdown",
   "metadata": {},
   "source": [
    "## 2.4 Melakukan Test Hipotesis 1 Sampel dengan 6 Langkah Testing\n",
    "\n",
    "Melakukan test hipotesis 1 sampel,<br>\n",
    "a. Nilai rata-rata pH di atas 3.29?<br>\n",
    "b. Nilai rata-rata Residual Sugar tidak sama dengan 2.50?<br>\n",
    "c. Nilai rata-rata 150 baris pertama kolom sulphates bukan 0.65?<br>\n",
    "d. Nilai rata-rata total sulfur dioxide di bawah 35?<br>\n",
    "e. Proporsi nilai total Sulfat Dioxide yang lebih dari 40, adalah tidak sama dengan 50% ?<br>"
   ]
  },
  {
   "cell_type": "markdown",
   "metadata": {},
   "source": [
    "### 2.4.1 Nilai rata-rata pH di atas 3.29?"
   ]
  },
  {
   "cell_type": "markdown",
   "metadata": {},
   "source": [
    "1. **Hipotesis Nol**<br>\n",
    "$H_0 : \\mu_{pH} = 3.29$<br>\n",
    "<br>\n",
    "2. **Hipotesis Alternatif**<br>\n",
    "$H_1 : \\mu_{pH} > 3.29$<br>\n",
    "<br>\n",
    "3. **Tingkat Signifikan**<br>\n",
    "$\\alpha = 0.05$<br>\n",
    "<br>\n",
    "4. **Penentuan Uji Statistik dan Daerah Kritis**\n",
    "\n",
    "    Berdasarkan soal, hipotesis yang diiginkan adalah **one-tailed**.<br>\n",
    "<br>\n",
    "    Sehingga berdasarkan tabel t-test atau fungsi t-test yang tersedia di python di dapatkan nilai kritis $t > t_{0.05} = t_{0.95} = 1.646$<br>\n",
    "\n",
    "5. **Perhitungan Uji Statistik dan p-value**\n",
    "\n",
    "    Karena standar deviasi dari populasi tidak diketahui maka akan digunakan t-test dengan rumus sebagai berikut<br>\n",
    "    \n",
    "    $t = \\Large\\frac{\\bar{x} - \\mu_0}{s / \\sqrt{n}}$<br>\n",
    "    \n",
    "    Dengan $\\bar{x}$ adalah nilai rata-rata sampel,<br>\n",
    "    $\\mu_0$ adalah nilai rata-rata hipotesis,<br>\n",
    "    $s$ adalah standar deviasi sampel, <br>\n",
    "    $\\sqrt{n}$ adalah jumlah sampel<br>\n",
    "    \n",
    "    *Untuk p-value sendiri dapat dicari dengan menggunakan tabel t-test*"
   ]
  },
  {
   "cell_type": "code",
   "execution_count": 15,
   "metadata": {},
   "outputs": [
    {
     "name": "stdout",
     "output_type": "stream",
     "text": [
      "daerah kritis = 1.646380345427535\n",
      "t = 4.103780793366056\n",
      "Tolak H0, mean > 3.29\n",
      "Nilai rata - rata pH di atas 3.29\n"
     ]
    }
   ],
   "source": [
    "anggurPH = anggur['pH']\n",
    "mean = anggurPH.mean()\n",
    "n = len(anggurPH)\n",
    "std = anggurPH.std()\n",
    "x = 3.29\n",
    "\n",
    "# Langkah 1\n",
    "# H0 : mean = 3.29\n",
    "\n",
    "# Langkah 2\n",
    "# H1 : mean > 3.29\n",
    "\n",
    "# Langkah 3\n",
    "alpha = 0.05\n",
    "\n",
    "# Langkah 4\n",
    "dof = n-1 \n",
    "tCrit = t.ppf(1-alpha, dof)\n",
    "\n",
    "# langkah 5\n",
    "tValue = ((mean - x) / (std / math.sqrt(n)))\n",
    "\n",
    "print(f'daerah kritis = {tCrit}')\n",
    "print(f't = {tValue}')\n",
    "\n",
    "# Langkah 6\n",
    "if (tValue > tCrit):\n",
    "    print(\"Tolak H0, mean > 3.29\")\n",
    "    print(\"Nilai rata - rata pH di atas 3.29\")\n",
    "else:\n",
    "    print(\"Tidak menolak H0, mean = 3.29\")\n",
    "    print(\"Nilai rata - rata pH sama dengan 3.29\")"
   ]
  },
  {
   "cell_type": "markdown",
   "metadata": {},
   "source": [
    "### 2.4.2 Nilai rata-rata Residual Sugar tidak sama dengan 2.50?"
   ]
  },
  {
   "cell_type": "markdown",
   "metadata": {},
   "source": [
    "1. **Hipotesis Nol**<br>\n",
    "$H_0 : \\mu_{residualSugar} = 2.5$<br>\n",
    "<br>\n",
    "2. **Hipotesis Alternatif**<br>\n",
    "$H_1 : \\mu_{residualSugar} \\neq 2.5$<br>\n",
    "<br>\n",
    "3. **Tingkat Signifikan**<br>\n",
    "$\\alpha = 0.05$<br>\n",
    "<br>\n",
    "4. **Penentuan Uji Statistik dan Daerah Kritis**\n",
    "\n",
    "    Berdasarkan soal, hipotesis yang diiginkan adalah **two-tailed**.<br>\n",
    "<br>\n",
    "    Sehingga berdasarkan tabel t-test atau fungsi t-test yang tersedia di python di dapatkan nilai kritis $t > t_{\\alpha/2} = t_{0.975} = 1.962$<br> atau $t < -t_{\\alpha/2} =  t_{0.025} = -1.962$\n",
    "\n",
    "\n",
    "5. **Perhitungan Uji Statistik dan p-value**\n",
    "\n",
    "    Karena standar deviasi dari populasi tidak diketahui maka akan digunakan t-test dengan rumus sebagai berikut<br>\n",
    "    \n",
    "    $t = \\Large\\frac{\\bar{x} - \\mu_0}{s / \\sqrt{n}}$<br>\n",
    "    \n",
    "    Dengan $\\bar{x}$ adalah nilai rata-rata sampel,<br>\n",
    "    $\\mu_0$ adalah nilai rata-rata hipotesis,<br>\n",
    "    $s$ adalah standar deviasi sampel, <br>\n",
    "    $\\sqrt{n}$ adalah jumlah sampel<br>\n",
    "    \n",
    "    *Untuk p-value sendiri dapat dicari dengan menggunakan tabel t-test*"
   ]
  },
  {
   "cell_type": "code",
   "execution_count": 16,
   "metadata": {},
   "outputs": [
    {
     "name": "stdout",
     "output_type": "stream",
     "text": [
      "daerah kritis = -1.962341461133449 dan 1.9623414611334487\n",
      "t = 2.147961943553881\n",
      "Tolak H0, mean != 2.5\n",
      "Nilai rata - rata residual sugar tidak sama dengan 2.5\n"
     ]
    }
   ],
   "source": [
    "anggurResidualSugar = anggur['residual sugar']\n",
    "mean = anggurResidualSugar.mean()\n",
    "n = len(anggurResidualSugar)\n",
    "std = anggurResidualSugar.std()\n",
    "x = 2.5\n",
    "\n",
    "# Langkah 1\n",
    "# H0 : mean = 2.5\n",
    "\n",
    "# Langkah 2\n",
    "# H1 : mean != 2.5\n",
    "\n",
    "# Langkah 3\n",
    "alpha = 0.05\n",
    "\n",
    "# Langkah 4\n",
    "dof = n-1\n",
    "tCrit1 = t.ppf(alpha/2, dof)\n",
    "tCrit2 = t.ppf(1-alpha/2, dof)\n",
    "\n",
    "# langkah 5\n",
    "tValue = ((mean - x) / (std / math.sqrt(n)))\n",
    "\n",
    "print(f'daerah kritis = {tCrit1} dan {tCrit2}')\n",
    "print(f't = {tValue}')\n",
    "\n",
    "# Langkah 6\n",
    "if (tValue > tCrit2 or tValue < tCrit1):\n",
    "    print(\"Tolak H0, mean != 2.5\")\n",
    "    print(\"Nilai rata - rata residual sugar tidak sama dengan 2.5\")\n",
    "else:\n",
    "    print(\"Tidak menolak H0, mean = 2.5\")\n",
    "    print(\"Nilai rata - rata residual sugar sama dengan 2.5\")"
   ]
  },
  {
   "cell_type": "markdown",
   "metadata": {},
   "source": [
    "### 2.4.3 Nilai rata-rata 150 baris pertama kolom sulphates bukan 0.65?"
   ]
  },
  {
   "cell_type": "markdown",
   "metadata": {},
   "source": [
    "1. **Hipotesis Nol**<br>\n",
    "$H_0 : \\mu_{sulphates} = 0.65$<br>\n",
    "<br>\n",
    "2. **Hipotesis Alternatif**<br>\n",
    "$H_1 : \\mu_{sulphates} \\neq 0.65$<br>\n",
    "<br>\n",
    "3. **Tingkat Signifikan**<br>\n",
    "$\\alpha = 0.05$<br>\n",
    "<br>\n",
    "4. **Penentuan Uji Statistik dan Daerah Kritis**\n",
    "\n",
    "    Berdasarkan soal, hipotesis yang diiginkan adalah **two-tailed**.<br>\n",
    "<br>\n",
    "    Sehingga berdasarkan tabel t-test atau fungsi t-test yang tersedia di python di dapatkan nilai kritis $t > t_{\\alpha/2} = t_{0.975} = 1.976$<br> atau $t < -t_{\\alpha/2} =  t_{0.025} = -1.976$\n",
    "\n",
    "5. **Perhitungan Uji Statistik dan p-value**\n",
    "\n",
    "    Karena standar deviasi dari populasi tidak diketahui maka akan digunakan t-test dengan rumus sebagai berikut<br>\n",
    "    \n",
    "    $t = \\Large\\frac{\\bar{x} - \\mu_0}{s / \\sqrt{n}}$<br>\n",
    "    \n",
    "    Dengan $\\bar{x}$ adalah nilai rata-rata sampel,<br>\n",
    "    $\\mu_0$ adalah nilai rata-rata hipotesis,<br>\n",
    "    $s$ adalah standar deviasi sampel, <br>\n",
    "    $\\sqrt{n}$ adalah jumlah sampel<br>\n",
    "    \n",
    "    *Untuk p-value sendiri dapat dicari dengan menggunakan tabel t-test*"
   ]
  },
  {
   "cell_type": "code",
   "execution_count": 17,
   "metadata": {},
   "outputs": [
    {
     "name": "stdout",
     "output_type": "stream",
     "text": [
      "daerah kritis = -1.9760131776791554 dan 1.976013177679155\n",
      "t = -4.964843393315906\n",
      "Tolak H0, mean != 0.65\n",
      "Nilai rata-rata 150 baris pertama kolom sulphates tidak sama dengan 0.65\n"
     ]
    }
   ],
   "source": [
    "anggurSulphates = anggur['sulphates'].head(150)\n",
    "mean = anggurSulphates.mean()\n",
    "n = len(anggurSulphates)\n",
    "std = anggurSulphates.std()\n",
    "x = 0.65\n",
    "\n",
    "# Langkah 1\n",
    "# H0 : mean = 0.65\n",
    "\n",
    "# langkah 2\n",
    "# H1 : mean != 0.65\n",
    "\n",
    "# Langkah 3\n",
    "alpha = 0.05\n",
    "\n",
    "# Langkah 4\n",
    "dof = n-1\n",
    "tCrit1 = t.ppf(alpha/2, dof)\n",
    "tCrit2 = t.ppf(1-alpha/2, dof)\n",
    "\n",
    "# langkah 5\n",
    "tValue = ((mean - x) / (std / math.sqrt(n)))\n",
    "\n",
    "print(f'daerah kritis = {tCrit1} dan {tCrit2}')\n",
    "print(f't = {tValue}')\n",
    "\n",
    "# Langkah 6\n",
    "if (tValue > tCrit2 or tValue < tCrit1):\n",
    "    print(\"Tolak H0, mean != 0.65\")\n",
    "    print(\"Nilai rata-rata 150 baris pertama kolom sulphates tidak sama dengan 0.65\")\n",
    "else:\n",
    "    print(\"Tidak menolak H0, mean = 0.65\")\n",
    "    print(\"Nilai rata-rata 150 baris pertama kolom sulphates sama dengan 0.65\")"
   ]
  },
  {
   "cell_type": "markdown",
   "metadata": {},
   "source": [
    "### 2.4.4 Nilai rata-rata total sulfur dioxide di bawah 35?"
   ]
  },
  {
   "cell_type": "markdown",
   "metadata": {},
   "source": [
    "1. **Hipotesis Nol**<br>\n",
    "$H_0 : \\mu_{sulfurDioxide} = 35$<br>\n",
    "<br>\n",
    "2. **Hipotesis Alternatif**<br>\n",
    "$H_1 : \\mu_{sulfurDioxide} < 35$<br>\n",
    "<br>\n",
    "3. **Tingkat Signifikan**<br>\n",
    "$\\alpha = 0.05$<br>\n",
    "<br>\n",
    "4. **Penentuan Uji Statistik dan Daerah Kritis**\n",
    "\n",
    "    Berdasarkan soal, hipotesis yang diiginkan adalah **one-tailed**.<br>\n",
    "<br>\n",
    "    Sehingga berdasarkan tabel t-test atau fungsi t-test yang tersedia di python di dapatkan nilai kritis $t < t_{0.05} = -1.646$\n",
    "\n",
    "5. **Perhitungan Uji Statistik dan p-value**\n",
    "\n",
    "    Karena standar deviasi dari populasi tidak diketahui maka akan digunakan t-test dengan rumus sebagai berikut<br>\n",
    "    \n",
    "    $t = \\Large\\frac{\\bar{x} - \\mu_0}{s / \\sqrt{n}}$<br>\n",
    "    \n",
    "    Dengan $\\bar{x}$ adalah nilai rata-rata sampel,<br>\n",
    "    $\\mu_0$ adalah nilai rata-rata hipotesis,<br>\n",
    "    $s$ adalah standar deviasi sampel, <br>\n",
    "    $\\sqrt{n}$ adalah jumlah sampel<br>\n",
    "    \n",
    "    *Untuk p-value sendiri dapat dicari dengan menggunakan tabel t-test*\n",
    "    "
   ]
  },
  {
   "cell_type": "code",
   "execution_count": 18,
   "metadata": {},
   "outputs": [
    {
     "name": "stdout",
     "output_type": "stream",
     "text": [
      "daerah kritis = -1.6463803454275356\n",
      "t = 16.786387372296968\n",
      "Tidak Tolak H0, mean = 35\n",
      "Nilai rata-rata total sulfur dioxide sama dengan 35\n"
     ]
    }
   ],
   "source": [
    "anggurSulfurDioxide = anggur['total sulfur dioxide']\n",
    "mean = anggurSulfurDioxide.mean()\n",
    "n = len(anggurSulfurDioxide)\n",
    "std = anggurSulfurDioxide.std()\n",
    "x = 35\n",
    "\n",
    "#Langkah 1\n",
    "#H0 : mean = 35\n",
    "\n",
    "#Langkah 2\n",
    "#H1 : mean < 35\n",
    "\n",
    "#Langkah3\n",
    "alpha = 0.05\n",
    "\n",
    "#Langkah 4\n",
    "df = n - 1\n",
    "tCrit = t.ppf(alpha, df)\n",
    "\n",
    "#Langkah 5\n",
    "tValue = ((mean - x)/(std / math.sqrt(n)))\n",
    "pValue = t.cdf(abs(tValue),df)\n",
    "\n",
    "print(f'daerah kritis = {tCrit}')\n",
    "print(f't = {tValue}')\n",
    "\n",
    "#Langkah 6\n",
    "if tValue < tCrit:\n",
    "    print (\"Tolak H0, mean < 35\")\n",
    "    print(\"Nilai rata-rata total sulfur dioxide di bawah 35\")\n",
    "    \n",
    "else :\n",
    "    print (\"Tidak Tolak H0, mean = 35\")\n",
    "    print(\"Nilai rata-rata total sulfur dioxide sama dengan 35\")"
   ]
  },
  {
   "cell_type": "markdown",
   "metadata": {},
   "source": [
    "### 2.4.5 Proporsi nilai total Sulfat Dioxide yang lebih dari 40, adalah tidak sama dengan 50% ?\n"
   ]
  },
  {
   "cell_type": "markdown",
   "metadata": {},
   "source": [
    "1. **Hipotesis Nol**<br>\n",
    "$H_0 : P(X > 40) = 0.5$<br>\n",
    "<br>\n",
    "2. **Hipotesis Alternatif**<br>\n",
    "$H_1 : P(X > 40) \\neq 0.5$<br>\n",
    "<br>\n",
    "3. **Tingkat Signifikan**<br>\n",
    "$\\alpha = 0.05$<br>\n",
    "<br>\n",
    "4. **Penentuan Uji Statistik dan Daerah Kritis**\n",
    "\n",
    "    Berdasarkan soal, hipotesis yang diiginkan adalah **two-tailed**.<br>\n",
    "<br>\n",
    "    Karena sampel yang diambil terlalu besar, maka akan digunakan binomial didekati normal<br>\n",
    "    Sehingga berdasarkan tabel distribusi normal atau fungsi distribusi normal yang tersedia di python di dapatkan nilai kritis<br> \n",
    "    $z < -z_{\\alpha / 2} = -z_{0.025} = -1.96$ atau $z > z_{\\alpha / 2} = z_{0.975} = 1.96$<br>\n",
    " \n",
    "5. **Perhitungan Uji Statistik dan p-value**\n",
    "\n",
    "    Karena standar deviasi dari populasi tidak diketahui maka akan digunakan z-test dengan rumus sebagai berikut<br>\n",
    "    \n",
    "    $z = \\Large\\frac{x - np_0}{\\sqrt{np_0q_0}}$ = $\\Large\\frac{\\hat{p} - p_0}{\\sqrt{p_0q_0 / n}}$<br>\n",
    "    \n",
    "    Dengan $\\hat{p}$ adalah proporsi sampel,<br>\n",
    "    $x$ adalah banyak sampel yang memenuhi syarat,<br>\n",
    "    $p_0$ adalah proporsi hipotesis,<br>\n",
    "    $q_0$ adalah $1-p_0$, <br>\n",
    "    $\\sqrt{n}$ adalah jumlah sampel<br>\n",
    "    \n",
    "    *Untuk p-value sendiri dapat dicari dengan menggunakan tabel z-test*"
   ]
  },
  {
   "cell_type": "code",
   "execution_count": 19,
   "metadata": {},
   "outputs": [
    {
     "name": "stdout",
     "output_type": "stream",
     "text": [
      "daerah kritis = -1.9599639845400545 dan 1.959963984540054\n",
      "z = 0.7589466384404118\n",
      "Tidak tolak H0, P(X > 40) = 0.5\n",
      "Proporsi nilai total Sulfat Dioxide yang lebih dari 40, adalah sama dengan 50%\n"
     ]
    }
   ],
   "source": [
    "n = len(anggur['total sulfur dioxide'])\n",
    "p = np.sum(anggur['total sulfur dioxide'] > 40)/n\n",
    "P0 = 0.5\n",
    "\n",
    "#Langkah 1\n",
    "#H0 : P(X > 40) = 0.5\n",
    "\n",
    "#Langkah 2\n",
    "#H1 : P(X > 40) != 0.5\n",
    "\n",
    "#Langkah3\n",
    "alpha = 0.05\n",
    "\n",
    "#Langkah 4\n",
    "zCrit1 = norm.ppf(alpha/2)\n",
    "zCrit2 = norm.ppf(1-alpha/2)\n",
    "\n",
    "#Langkah 5\n",
    "zValue = (p - P0) / math.sqrt(P0 * (1 - P0) / n)\n",
    "\n",
    "print(f'daerah kritis = {zCrit1} dan {zCrit2}')\n",
    "print(f'z = {zValue}')\n",
    "\n",
    "#Langkah 6\n",
    "if zValue < zCrit1 or zValue > zCrit2 :\n",
    "    print (\"Tolak H0, P(X > 40) != 0.5\")\n",
    "    print(\"Proporsi nilai total Sulfat Dioxide yang lebih dari 40, adalah tidak sama dengan 50%\")\n",
    "else :\n",
    "    print (\"Tidak tolak H0, P(X > 40) = 0.5\")\n",
    "    print(\"Proporsi nilai total Sulfat Dioxide yang lebih dari 40, adalah sama dengan 50%\")"
   ]
  },
  {
   "cell_type": "markdown",
   "metadata": {},
   "source": [
    "## 2.5 Melakukan Test Hipotesis 2 Sampel dengan 6 Langkah Testing\n",
    "\n",
    "\n",
    " Melakukan test hipotesis 2 sampel,<br>\n",
    "1. Data kolom fixed acidity dibagi 2 sama rata: bagian awal dan bagian akhir kolom. Benarkah rata-rata kedua bagian tersebut sama? <br>\n",
    "2. Data kolom chlorides dibagi 2 sama rata: bagian awal dan bagian akhir kolom. Benarkah rata-rata bagian awal lebih besar daripada bagian akhir sebesar 0.001? <br>\n",
    "3. Benarkah rata-rata sampel 25 baris pertama kolom Volatile Acidity sama dengan rata-rata 25 baris pertama kolom Sulphates? <br>\n",
    "4. Bagian awal kolom residual sugar memiliki variansi yang sama dengan bagian akhirnya?<br>\n",
    "5. Proporsi nilai setengah bagian awal alcohol yang lebih dari 7, adalah lebih besar daripada, proporsi nilai yang sama di setengah bagian akhir alcohol?<br>"
   ]
  },
  {
   "cell_type": "code",
   "execution_count": 20,
   "metadata": {},
   "outputs": [],
   "source": [
    "def isVarianEqual(sample1, sample2, alpha) :\n",
    "    # Langkah 1\n",
    "    # H0 : variansi1 = variansi2\n",
    "\n",
    "    # Langkah 2\n",
    "    # H1 : variansi1 != variansi2\n",
    "\n",
    "    # Langkah 3\n",
    "    # alpha = 0.05\n",
    "\n",
    "    # Langkah 4\n",
    "    F = sample1.var() / sample2.var()\n",
    "    dfn = len(sample1) - 1 # degrees of freedom numerator\n",
    "    dfd = len(sample2) - 1 # degrees of freedom denominator\n",
    "\n",
    "    # Langkah 5\n",
    "    fCrit2 = f.ppf(1-alpha/2, dfn, dfd)\n",
    "    fCrit1 = 1/fCrit2\n",
    "    \n",
    "    # Langkah 6\n",
    "    if (F < fCrit1 or F > fCrit2): # Reject H0\n",
    "        return False\n",
    "    else :                         # Failed to reject H0\n",
    "        return True"
   ]
  },
  {
   "cell_type": "markdown",
   "metadata": {},
   "source": [
    "### 2.5.1 Data kolom fixed acidity dibagi 2 sama rata: bagian awal dan bagian akhir kolom. Benarkah rata-rata kedua bagian tersebut sama?"
   ]
  },
  {
   "cell_type": "markdown",
   "metadata": {},
   "source": [
    "1. **Hipotesis Nol**<br>\n",
    "$H_0 : \\mu_{fixedAcidityAwal} - \\mu_{fixedAcidityAkhir} = 0$<br>\n",
    "<br>\n",
    "2. **Hipotesis Alternatif**<br>\n",
    "$H_1 : \\mu_{fixedAcidityAwal} - \\mu_{fixedAcidityAkhir} \\neq 0$<br>\n",
    "<br>\n",
    "3. **Tingkat Signifikan**<br>\n",
    "$\\alpha = 0.05$<br>\n",
    "<br>\n",
    "4. **Penentuan Uji Statistik dan Daerah Kritis**\n",
    "\n",
    "    Berdasarkan soal, hipotesis yang diinginkan adalah **two-tailed**.<br>\n",
    "<br>\n",
    "    Sehingga berdasarkan tabel t-test atau fungsi t-test yang tersedia di python di dapatkan nilai kritis $t > t_{1-\\alpha} = t_{0.975} = 1.962$<br> atau $t < t_{0.025} = -1.962$\n",
    "\n",
    "5. **Perhitungan Uji Statistik dan p-value**\n",
    "\n",
    "    Karena standar deviasi dari populasi tidak diketahui maka akan digunakan t-test. Untuk t-test 2 sample, harus diuji terlebih dahulu apakah variansi dari kedua sampel sama atau tidak. Berdasarkan hasil f-test yang dilakukan, ditemukan bahwa variansi kedua sample sama.Maka akan digunakan t-test dengan rumus sebagai berikut <br>\n",
    "    \n",
    "    $t = \\Large\\frac{( \\bar{x_1} - \\bar{x_2} )}{s_p  \\sqrt{1/n_1 + 1/n_2}}$<br>\n",
    "    \n",
    "    Dengan $\\bar{x_1}$ adalah nilai rata-rata sampel 1,<br>\n",
    "    $\\bar{x_2}$ adalah nilai rata-rata sampel 2,<br>\n",
    "    $s_p$ adalah standar deviasi sampel gabungan, <br>\n",
    "    $n_1$ adalah jumlah sampel 1,<br>\n",
    "    $n_2$ adalah jumlah sampel 2<br>\n",
    "    \n",
    "    *Untuk p-value sendiri dapat dicari dengan menggunakan tabel t-test*\n",
    "    "
   ]
  },
  {
   "cell_type": "code",
   "execution_count": 21,
   "metadata": {},
   "outputs": [
    {
     "name": "stdout",
     "output_type": "stream",
     "text": [
      "varian equal =  True\n",
      "daerah kritis = -1.962343846216334 dan 1.9623438462163336\n",
      "t = 0.026041069999052112\n",
      "Tidak Tolak H0, mean1 dan mean2 sama\n",
      "Rata-rata kolom fixed acidity bagian awal dan akhir tersebut sama\n"
     ]
    }
   ],
   "source": [
    "# nomor 5a\n",
    "\n",
    "n = len(anggur['fixed acidity'])\n",
    "anggurFixedAcidity1 = anggur['fixed acidity'][:n//2]\n",
    "anggurFixedAcidity2 = anggur['fixed acidity'][n//2:]\n",
    "mean1 = anggurFixedAcidity1.mean()\n",
    "mean2 = anggurFixedAcidity2.mean()\n",
    "n1 = len(anggurFixedAcidity1)\n",
    "n2 = len(anggurFixedAcidity2)\n",
    "std1 = anggurFixedAcidity1.std()\n",
    "std2 = anggurFixedAcidity2.std()\n",
    "alpha = 0.05\n",
    "\n",
    "# test if varian equal or no\n",
    "varianEqual = isVarianEqual(anggurFixedAcidity1,anggurFixedAcidity2,alpha)\n",
    "print (\"varian equal = \", varianEqual)\n",
    "\n",
    "#t-test\n",
    "\n",
    "#Langkah 1\n",
    "#H0 : mean1 - mean2 = 0\n",
    "\n",
    "#Langkah 2\n",
    "#H1 : mean1 - mean2 != 0\n",
    "\n",
    "#Langkah3\n",
    "alpha = 0.05\n",
    "\n",
    "#Langkah 4\n",
    "df = n1 + n2 - 2\n",
    "tCrit1 = t.ppf(alpha/2, df)\n",
    "tCrit2 = t.ppf(1 - alpha/2, df)\n",
    "\n",
    "#Langkah 5\n",
    "stdCombined = ((((n1 -1) * std1 * std1) + ((n2 -1) * std2 * std2)) / (n1 + n2 - 2))\n",
    "tValue = (mean1 - mean2)/(math.sqrt(stdCombined) * math.sqrt(1/n1 + 1/n2))\n",
    "p_value = (1-t.cdf(abs(tValue),df))*2\n",
    "\n",
    "print(f'daerah kritis = {tCrit1} dan {tCrit2}')\n",
    "print(f't = {tValue}')\n",
    "\n",
    "#Langkah 6\n",
    "if (tValue > tCrit2 or tValue < tCrit1):\n",
    "    print (\"Tolak H0, mean1 dan mean2 berbeda\")\n",
    "    print (\"Rata-rata kolom fixed acidity bagian awal dan akhir tersebut tidak sama\")\n",
    "else :\n",
    "    print (\"Tidak Tolak H0, mean1 dan mean2 sama\")\n",
    "    print (\"Rata-rata kolom fixed acidity bagian awal dan akhir tersebut sama\")"
   ]
  },
  {
   "cell_type": "markdown",
   "metadata": {},
   "source": [
    "### 2.5.2 Data kolom chlorides dibagi 2 sama rata: bagian awal dan bagian akhir kolom. Benarkah rata-rata bagian awal lebih besar daripada bagian akhir sebesar 0.001?"
   ]
  },
  {
   "cell_type": "markdown",
   "metadata": {},
   "source": [
    "1. **Hipotesis Nol**<br>\n",
    "$H_0 : \\mu_{chloridesAwal} - \\mu_{chloridesAkhir} = 0.001$<br>\n",
    "<br>\n",
    "2. **Hipotesis Alternatif**<br>\n",
    "$H_1 : \\mu_{chloridesAwal} - \\mu_{chloridesAkhir} \\neq 0.001$<br>\n",
    "<br>\n",
    "3. **Tingkat Signifikan**<br>\n",
    "$\\alpha = 0.05$<br>\n",
    "<br>\n",
    "4. **Penentuan Uji Statistik dan Daerah Kritis**\n",
    "\n",
    "    Berdasarkan soal, hipotesis yang diinginkan adalah **two-tailed**.<br>\n",
    "<br>\n",
    "    Sehingga berdasarkan tabel t-test atau fungsi t-test yang tersedia di python di dapatkan nilai kritis $t > t_{1-\\alpha} = t_{0.975} = 1.962$<br> atau $t < t_{0.025} = -1.962$\n",
    "\n",
    "5. **Perhitungan Uji Statistik dan p-value**\n",
    "\n",
    "    Karena standar deviasi dari populasi tidak diketahui maka akan digunakan t-test. Untuk t-test 2 sample, harus diuji terlebih dahulu apakah variansi dari kedua sampel sama atau tidak. Berdasarkan hasil f-test yang dilakukan, ditemukan bahwa variansi kedua sample sama.Maka akan digunakan t-test dengan rumus sebagai berikut <br>\n",
    "    \n",
    "    $t = \\Large\\frac{( \\bar{x_1} - \\bar{x_2} - d_0)}{s_p  \\sqrt{1/n_1 + 1/n_2}}$<br>\n",
    "    \n",
    "    Dengan $\\bar{x_1}$ adalah nilai rata-rata sampel 1,<br>\n",
    "    $\\bar{x_2}$ adalah nilai rata-rata sampel 2,<br>\n",
    "    $s_p$ adalah standar deviasi sampel gabungan, <br>\n",
    "    $n_1$ adalah jumlah sampel 1,<br>\n",
    "    $n_2$ adalah jumlah sampel 2<br>\n",
    "    \n",
    "    *Untuk p-value sendiri dapat dicari dengan menggunakan tabel t-test*\n",
    "    "
   ]
  },
  {
   "cell_type": "code",
   "execution_count": 22,
   "metadata": {},
   "outputs": [
    {
     "name": "stdout",
     "output_type": "stream",
     "text": [
      "varian equal =  True\n",
      "daerah kritis = -1.962343846216334 dan 1.9623438462163336\n",
      "t = -0.46731712285223\n",
      "Tidak Tolak H0, mean1 - mean2 = 0.001\n",
      "Rata-rata kolom chlorides bagian awal lebih besar daripada bagian akhir sebesar 0.001\n"
     ]
    }
   ],
   "source": [
    "# nomor 5b\n",
    "\n",
    "n = len(anggur['chlorides'])\n",
    "anggurChrolides1 = anggur['chlorides'][:n//2]\n",
    "anggurChrolides2 = anggur['chlorides'][n//2:]\n",
    "mean1 = anggurChrolides1.mean()\n",
    "mean2 = anggurChrolides2.mean()\n",
    "n1 = len(anggurChrolides1)\n",
    "n2 = len(anggurChrolides2)\n",
    "std1 = anggurChrolides1.std()\n",
    "std2 = anggurChrolides2.std()\n",
    "d0 = 0.001\n",
    "alpha = 0.05\n",
    "\n",
    "# test if varian equal or no\n",
    "varianEqual = isVarianEqual(anggurChrolides1, anggurChrolides2,alpha)\n",
    "print (\"varian equal = \", varianEqual)\n",
    "\n",
    "#t-test\n",
    "\n",
    "#Langkah 1\n",
    "#H0 : mean1 - mean2 = 0.001\n",
    "\n",
    "#Langkah 2\n",
    "#H1 : mean1 - mean2 != 0.001\n",
    "\n",
    "#Langkah3\n",
    "alpha = 0.05\n",
    "\n",
    "#Langkah 4\n",
    "df = n1 + n2 - 2\n",
    "tCrit1 = t.ppf(alpha/2, df)\n",
    "tCrit2 = t.ppf(1-alpha/2, df)\n",
    "\n",
    "#Langkah 5\n",
    "stdCombined = ((((n1 -1) * std1 * std1) + ((n2 -1) * std2 * std2)) / (n1 + n2 - 2))\n",
    "tValue = (mean1 - mean2-d0)/(math.sqrt(stdCombined) * math.sqrt(1/n1 + 1/n2))\n",
    "p_value = (1-t.cdf(abs(tValue),df))*2\n",
    "\n",
    "print(f'daerah kritis = {tCrit1} dan {tCrit2}')\n",
    "print(f't = {tValue}')\n",
    "\n",
    "#Langkah 6\n",
    "if (tValue > tCrit2 or tValue < tCrit1):\n",
    "    print (\"Tolak H0, mean1 - mean2 != 0.001\")\n",
    "    print (\"Rata-rata kolom chlorides bagian awal tidak lebih besar daripada bagian akhir sebesar 0.001\")\n",
    "else :\n",
    "    print (\"Tidak Tolak H0, mean1 - mean2 = 0.001\")\n",
    "    print (\"Rata-rata kolom chlorides bagian awal lebih besar daripada bagian akhir sebesar 0.001\")\n"
   ]
  },
  {
   "cell_type": "markdown",
   "metadata": {},
   "source": [
    "### 2.5.3 Benarkah rata-rata sampel 25 baris pertama kolom Volatile Acidity sama dengan rata-rata 25 baris pertama kolom Sulphates?"
   ]
  },
  {
   "cell_type": "markdown",
   "metadata": {},
   "source": [
    "1. **Hipotesis Nol**<br>\n",
    "$H_0 : \\mu_{volatileAcidity} - \\mu_{Sulphates} = 0$<br>\n",
    "<br>\n",
    "2. **Hipotesis Alternatif**<br>\n",
    "$H_1 : \\mu_{volatileAcidity} - \\mu_{Sulphates} \\neq 0$<br>\n",
    "<br>\n",
    "3. **Tingkat Signifikan**<br>\n",
    "$\\alpha = 0.05$<br>\n",
    "<br>\n",
    "4. **Penentuan Uji Statistik dan Daerah Kritis**\n",
    "\n",
    "    Berdasarkan soal, hipotesis yang diinginkan adalah **two-tailed**.<br>\n",
    "<br>\n",
    "    Sehingga berdasarkan tabel t-test atau fungsi t-test yang tersedia di python di dapatkan nilai kritis $t > t_{1-\\alpha} = t_{0.975} = 1.962$<br> atau $t < t_{0.025} = -1.962$\n",
    "\n",
    "5. **Perhitungan Uji Statistik dan p-value**\n",
    "\n",
    "    Karena standar deviasi dari populasi tidak diketahui maka akan digunakan t-test. Untuk t-test 2 sample, harus diuji terlebih dahulu apakah variansi dari kedua sampel sama atau tidak. Berdasarkan hasil f-test yang dilakukan, ditemukan bahwa variansi kedua sample sama.Maka akan digunakan t-test dengan rumus sebagai berikut <br>\n",
    "    \n",
    "    $t = \\Large\\frac{( \\bar{x_1} - \\bar{x_2} - d_0)}{s_p  \\sqrt{1/n_1 + 1/n_2}}$<br>\n",
    "    \n",
    "    Dengan $\\bar{x_1}$ adalah nilai rata-rata sampel 1,<br>\n",
    "    $\\bar{x_2}$ adalah nilai rata-rata sampel 2,<br>\n",
    "    $s_p$ adalah standar deviasi sampel gabungan, <br>\n",
    "    $n_1$ adalah jumlah sampel 1,<br>\n",
    "    $n_2$ adalah jumlah sampel 2<br>\n",
    "    \n",
    "    *Untuk p-value sendiri dapat dicari dengan menggunakan tabel t-test*\n",
    "    "
   ]
  },
  {
   "cell_type": "code",
   "execution_count": 23,
   "metadata": {},
   "outputs": [
    {
     "name": "stdout",
     "output_type": "stream",
     "text": [
      "varian equal =  True\n",
      "daerah kritis = -1.962343846216334 dan 1.9623438462163336\n",
      "t = -2.6374821676748703\n",
      "Tolak H0, mean1 dan mean2 berbeda\n",
      "Rata-rata sampel 25 baris pertama kolom Volatile Acidity tidak sama dengan rata-rata 25 baris pertama kolom Sulphates\n"
     ]
    }
   ],
   "source": [
    "# nomor 5c\n",
    "\n",
    "anggurVolatileAcidity = anggur['volatile acidity'][:25]\n",
    "anggurSulphates = anggur['sulphates'][:25]\n",
    "mean1 = anggurVolatileAcidity.mean()\n",
    "mean2 = anggurSulphates.mean()\n",
    "n1 = len(anggurVolatileAcidity)\n",
    "n2 = len(anggurSulphates)\n",
    "std1 = anggurVolatileAcidity.std()\n",
    "std2 = anggurSulphates.std()\n",
    "alpha = 0.05\n",
    "\n",
    "# test if varian equal or no\n",
    "varianEqual = isVarianEqual(anggurVolatileAcidity, anggurSulphates,alpha)\n",
    "print (\"varian equal = \", varianEqual)\n",
    "\n",
    "#t-test\n",
    "\n",
    "#Langkah 1\n",
    "#H0 : mean1 - mean2 = 0\n",
    "\n",
    "#Langkah 2\n",
    "#H1 : mean1  - mean2 != 0\n",
    "\n",
    "#Langkah3\n",
    "alpha = 0.05\n",
    "\n",
    "#Langkah 4\n",
    "df2 = n1 + n2 -2\n",
    "tCrit1 = t.ppf(alpha/2, df)\n",
    "tCrit2 = t.ppf(1-alpha/2, df)\n",
    "\n",
    "#Langkah 5\n",
    "stdCombined = ((((n1 -1) * std1 * std1) + ((n2 -1) * std2 * std2)) / (n1 + n2 - 2))\n",
    "tValue = (mean1 - mean2)/(math.sqrt(stdCombined) * math.sqrt(1/n1 + 1/n2))\n",
    "p_value = (1-t.cdf(abs(tValue),df))*2\n",
    "\n",
    "print(f'daerah kritis = {tCrit1} dan {tCrit2}')\n",
    "print(f't = {tValue}')\n",
    "\n",
    "#Langkah 6\n",
    "if ( tValue > tCrit2 or tValue < tCrit1):\n",
    "    print (\"Tolak H0, mean1 dan mean2 berbeda\")\n",
    "    print (\"Rata-rata sampel 25 baris pertama kolom Volatile Acidity tidak sama dengan rata-rata 25 baris pertama kolom Sulphates\")\n",
    "else :\n",
    "    print (\"Tidak Tolak H0, mean1 dan mean2 sama\")\n",
    "    print (\"Rata-rata sampel 25 baris pertama kolom Volatile Acidity sama dengan rata-rata 25 baris pertama kolom Sulphates\")"
   ]
  },
  {
   "cell_type": "markdown",
   "metadata": {},
   "source": [
    "### 2.5.4 Bagian awal kolom residual sugar memiliki variansi yang sama dengan bagian akhirnya?"
   ]
  },
  {
   "cell_type": "markdown",
   "metadata": {},
   "source": [
    "1. **Hipotesis Nol**<br>\n",
    "$H_0 : \\sigma^2_{residualSugarAwal} = \\sigma^2_{residualSugarAkhir}$<br>\n",
    "<br>\n",
    "2. **Hipotesis Alternatif**<br>\n",
    "$H_1 : \\sigma^2_{residualSugarAwal} \\neq \\sigma^2_{residualSugarAkhir}$<br>\n",
    "<br>\n",
    "3. **Tingkat Signifikan**<br>\n",
    "$\\alpha = 0.05$<br>\n",
    "<br>\n",
    "4. **Penentuan Uji Statistik dan Daerah Kritis**\n",
    "\n",
    "    Berdasarkan soal, hipotesis yang diinginkan adalah **two-tailed**.<br>\n",
    "<br>\n",
    "    Sehingga berdasarkan tabel f-test atau fungsi f-test yang tersedia di python di dapatkan nilai kritis $f < f_{1-\\alpha/2} = f_{0.975} = 0.839$<br> atau $f > 1/f_{0.975} = 1.192$\n",
    "\n",
    "5. **Perhitungan Uji Statistik dan p-value**\n",
    "\n",
    "    Digunakan f-test dengan rumus sebagai berikut <br>\n",
    "    \n",
    "    $f = \\Large\\frac{s^2_1}{s^2_2}$<br>\n",
    "    \n",
    "    Dengan ${s^2_1}$ adalah nilai variansi sampel 1,<br>\n",
    "    ${s^2_2}$ adalah nilai variansi sampel 2<br>\n",
    "    \n",
    "    *Untuk p-value sendiri dapat dicari dengan menggunakan tabel f-test*\n",
    "    "
   ]
  },
  {
   "cell_type": "code",
   "execution_count": 24,
   "metadata": {},
   "outputs": [
    {
     "name": "stdout",
     "output_type": "stream",
     "text": [
      "daerah kritis = 0.8388857772763105 dan 1.1920574017201653\n",
      "f = 0.9420041066941619\n",
      "Gagal menolak H0\n",
      "Bagian awal kolom residual sugar memiliki variansi yang sama dengan bagian akhirnya\n"
     ]
    }
   ],
   "source": [
    "n = len(anggur['residual sugar'])\n",
    "residualSugar1 = anggur['residual sugar'][:n//2]\n",
    "residualSugar2 = anggur['residual sugar'][n//2:]\n",
    "\n",
    "# Langkah 1\n",
    "# H0 : variansi1 = variansi2\n",
    "\n",
    "# Langkah 2\n",
    "# H1 : variansi1 != variansi2\n",
    "\n",
    "# Langkah 3\n",
    "# alpha = 0.05\n",
    "\n",
    "# Langkah 4\n",
    "F = residualSugar1.var() / residualSugar2.var()\n",
    "dfn = len(residualSugar1) - 1 # degrees of freedom numerator\n",
    "dfd = len(residualSugar2) - 1 # degrees of freedom denominator\n",
    "\n",
    "# Langkah 5\n",
    "fCrit2 = f.ppf(1-alpha/2, dfn, dfd)\n",
    "fCrit1 = 1/fCrit2\n",
    "\n",
    "print(f'daerah kritis = {fCrit1} dan {fCrit2}')\n",
    "print(f'f = {F}')\n",
    "\n",
    "if (isVarianEqual(residualSugar1, residualSugar2, 0.05)):\n",
    "    print(\"Gagal menolak H0\")\n",
    "    print(\"Bagian awal kolom residual sugar memiliki variansi yang sama dengan bagian akhirnya\")\n",
    "else:\n",
    "    print(\"H0 ditolak\")\n",
    "    print(\"Bagian awal kolom residual sugar memiliki variansi yang tidak sama dengan bagian akhirnya\")"
   ]
  },
  {
   "cell_type": "markdown",
   "metadata": {},
   "source": [
    "### 2.5.5 Proporsi nilai setengah bagian awal alcohol yang lebih dari 7, adalah lebih besar daripada, proporsi nilai yang sama di setengah bagian akhir alcohol?"
   ]
  },
  {
   "cell_type": "markdown",
   "metadata": {},
   "source": [
    "1. **Hipotesis Nol**<br>\n",
    "$H_0 : p_1 = p_2$<br>\n",
    "<br>\n",
    "2. **Hipotesis Alternatif**<br>\n",
    "$H_1 : p_1 > p_2$<br>\n",
    "<br>\n",
    "3. **Tingkat Signifikan**<br>\n",
    "$\\alpha = 0.05$<br>\n",
    "<br>\n",
    "4. **Penentuan Uji Statistik dan Daerah Kritis**\n",
    "\n",
    "    Berdasarkan soal, hipotesis yang diiginkan adalah **one-tailed**.<br>\n",
    "<br>\n",
    "    Karena sampel yang diambil ada 2, maka akan digunakan normal<br>\n",
    "    Sehingga berdasarkan tabel distribusi normal atau fungsi distribusi normal yang tersedia di python di dapatkan nilai kritis<br> \n",
    "    $z > z_{\\alpha} = 1.645$<br>\n",
    " \n",
    "5. **Perhitungan Uji Statistik dan p-value**\n",
    "\n",
    "    Karena standar deviasi dari populasi tidak diketahui maka akan digunakan z-test dengan rumus sebagai berikut<br>\n",
    "    \n",
    "    $z = \\Large\\frac{\\hat{p_1} - \\hat{p_2}}{\\sqrt{\\hat{p}\\hat{q} (1/n_1 + 1/n_2)}}$<br>\n",
    "    \n",
    "    Dengan $\\hat{p_1}$ adalah proporsi sampel pertama,<br>\n",
    "    $\\hat{p_1}$ adalah proporsi sampel kedua,<br>\n",
    "    $\\hat{p}$ adalah proporsi hipotesis,<br>\n",
    "    $\\hat{q}$ adalah $1-p_0$, <br>\n",
    "    ${n_1}$ adalah jumlah sampel pertama,<br>\n",
    "    ${n_2}$ adalah jumlah sampel kedua<br>\n",
    "    \n",
    "    *Untuk p-value sendiri dapat dicari dengan menggunakan tabel z-test*"
   ]
  },
  {
   "cell_type": "code",
   "execution_count": 25,
   "metadata": {},
   "outputs": [
    {
     "name": "stdout",
     "output_type": "stream",
     "text": [
      "daerah kritis = 1.6448536269514722\n",
      "z = 0.0\n",
      "pValue = 0.5\n",
      "alpha = 0.05\n",
      "Gagal menolak H0\n",
      "Proporsi nilai setengah bagian awal alcohol yang lebih dari 7, adalah sama dengan proporsi nilai yang sama di setengah bagian akhir alcohol\n"
     ]
    }
   ],
   "source": [
    "n = len(anggur['alcohol'])\n",
    "alcohol1 = anggur['alcohol'][:n//2]\n",
    "alcohol2 = anggur['alcohol'][n//2:]\n",
    "\n",
    "# Langkah 1 \n",
    "# H0 : p1 = p2\n",
    "# Dengan p1 adalah proporsi setengah bagian awal alcohol dan p2 adalah proporsi setengah bagian akhir alcohol\n",
    "\n",
    "# Langkah 2\n",
    "# H1 : p1 > p2\n",
    "\n",
    "# Langkah 3\n",
    "alpha = 0.05\n",
    "p1 = np.count_nonzero(alcohol1 > 7) / len(alcohol1)\n",
    "p2 = np.count_nonzero(alcohol2 > 7) / len(alcohol2)\n",
    "p = np.count_nonzero(anggur['alcohol'] > 7) / len(anggur['alcohol'])\n",
    "q = 1 - p\n",
    "\n",
    "# Langkah 5\n",
    "zCrit = norm.ppf(1-alpha)\n",
    "zValue = (p1 - p2) / math.sqrt(p * q * (1 / len(alcohol1) + 1 / len(alcohol2)))\n",
    "pValue = (1 - norm.cdf(zValue))\n",
    "\n",
    "print(f'daerah kritis = {zCrit}')\n",
    "print(f'z = {zValue}')\n",
    "print(f'pValue = {pValue}')\n",
    "print(f'alpha = {alpha}')\n",
    "\n",
    "# Langkah 6\n",
    "if (zValue > zCrit and pValue < alpha):\n",
    "    print(\"H0 ditolak\")\n",
    "    print(\"Proporsi nilai setengah bagian awal alcohol yang lebih dari 7, adalah lebih besar daripada, proporsi nilai yang sama di setengah bagian akhir alcohol\")\n",
    "else:\n",
    "    print(\"Gagal menolak H0\")\n",
    "    print(\"Proporsi nilai setengah bagian awal alcohol yang lebih dari 7, adalah sama dengan proporsi nilai yang sama di setengah bagian akhir alcohol\")"
   ]
  },
  {
   "cell_type": "code",
   "execution_count": null,
   "metadata": {},
   "outputs": [],
   "source": []
  }
 ],
 "metadata": {
  "kernelspec": {
   "display_name": "Python 3 (ipykernel)",
   "language": "python",
   "name": "python3"
  },
  "language_info": {
   "codemirror_mode": {
    "name": "ipython",
    "version": 3
   },
   "file_extension": ".py",
   "mimetype": "text/x-python",
   "name": "python",
   "nbconvert_exporter": "python",
   "pygments_lexer": "ipython3",
   "version": "3.9.7"
  }
 },
 "nbformat": 4,
 "nbformat_minor": 2
}
